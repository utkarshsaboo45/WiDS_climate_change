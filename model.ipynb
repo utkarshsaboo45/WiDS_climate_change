{
 "cells": [
  {
   "cell_type": "code",
   "execution_count": 140,
   "id": "9925f3d9-4a25-4d90-b850-2acdefc24feb",
   "metadata": {},
   "outputs": [],
   "source": [
    "import pandas as pd\n",
    "import numpy as np\n",
    "#import altair as alt"
   ]
  },
  {
   "cell_type": "code",
   "execution_count": 141,
   "id": "e2fa526a-1934-4496-af84-57fd47588b9a",
   "metadata": {},
   "outputs": [],
   "source": [
    "df = pd.read_csv(\"data/train.csv\")\n",
    "df.drop(columns=[\"id\"], inplace=True)"
   ]
  },
  {
   "cell_type": "code",
   "execution_count": 142,
   "id": "3e38c824-5645-42b0-a039-ce63d1034f24",
   "metadata": {},
   "outputs": [
    {
     "data": {
      "text/html": [
       "<div>\n",
       "<style scoped>\n",
       "    .dataframe tbody tr th:only-of-type {\n",
       "        vertical-align: middle;\n",
       "    }\n",
       "\n",
       "    .dataframe tbody tr th {\n",
       "        vertical-align: top;\n",
       "    }\n",
       "\n",
       "    .dataframe thead th {\n",
       "        text-align: right;\n",
       "    }\n",
       "</style>\n",
       "<table border=\"1\" class=\"dataframe\">\n",
       "  <thead>\n",
       "    <tr style=\"text-align: right;\">\n",
       "      <th></th>\n",
       "      <th>Year_Factor</th>\n",
       "      <th>State_Factor</th>\n",
       "      <th>building_class</th>\n",
       "      <th>facility_type</th>\n",
       "      <th>floor_area</th>\n",
       "      <th>year_built</th>\n",
       "      <th>energy_star_rating</th>\n",
       "      <th>ELEVATION</th>\n",
       "      <th>january_min_temp</th>\n",
       "      <th>january_avg_temp</th>\n",
       "      <th>...</th>\n",
       "      <th>days_below_0F</th>\n",
       "      <th>days_above_80F</th>\n",
       "      <th>days_above_90F</th>\n",
       "      <th>days_above_100F</th>\n",
       "      <th>days_above_110F</th>\n",
       "      <th>direction_max_wind_speed</th>\n",
       "      <th>direction_peak_wind_speed</th>\n",
       "      <th>max_wind_speed</th>\n",
       "      <th>days_with_fog</th>\n",
       "      <th>site_eui</th>\n",
       "    </tr>\n",
       "  </thead>\n",
       "  <tbody>\n",
       "    <tr>\n",
       "      <th>0</th>\n",
       "      <td>1</td>\n",
       "      <td>State_1</td>\n",
       "      <td>Commercial</td>\n",
       "      <td>Grocery_store_or_food_market</td>\n",
       "      <td>61242.0</td>\n",
       "      <td>1942.0</td>\n",
       "      <td>11.0</td>\n",
       "      <td>2.4</td>\n",
       "      <td>36</td>\n",
       "      <td>50.5</td>\n",
       "      <td>...</td>\n",
       "      <td>0</td>\n",
       "      <td>14</td>\n",
       "      <td>0</td>\n",
       "      <td>0</td>\n",
       "      <td>0</td>\n",
       "      <td>1.0</td>\n",
       "      <td>1.0</td>\n",
       "      <td>1.0</td>\n",
       "      <td>NaN</td>\n",
       "      <td>248.682615</td>\n",
       "    </tr>\n",
       "    <tr>\n",
       "      <th>1</th>\n",
       "      <td>1</td>\n",
       "      <td>State_1</td>\n",
       "      <td>Commercial</td>\n",
       "      <td>Warehouse_Distribution_or_Shipping_center</td>\n",
       "      <td>274000.0</td>\n",
       "      <td>1955.0</td>\n",
       "      <td>45.0</td>\n",
       "      <td>1.8</td>\n",
       "      <td>36</td>\n",
       "      <td>50.5</td>\n",
       "      <td>...</td>\n",
       "      <td>0</td>\n",
       "      <td>14</td>\n",
       "      <td>0</td>\n",
       "      <td>0</td>\n",
       "      <td>0</td>\n",
       "      <td>1.0</td>\n",
       "      <td>NaN</td>\n",
       "      <td>1.0</td>\n",
       "      <td>12.0</td>\n",
       "      <td>26.500150</td>\n",
       "    </tr>\n",
       "    <tr>\n",
       "      <th>2</th>\n",
       "      <td>1</td>\n",
       "      <td>State_1</td>\n",
       "      <td>Commercial</td>\n",
       "      <td>Retail_Enclosed_mall</td>\n",
       "      <td>280025.0</td>\n",
       "      <td>1951.0</td>\n",
       "      <td>97.0</td>\n",
       "      <td>1.8</td>\n",
       "      <td>36</td>\n",
       "      <td>50.5</td>\n",
       "      <td>...</td>\n",
       "      <td>0</td>\n",
       "      <td>14</td>\n",
       "      <td>0</td>\n",
       "      <td>0</td>\n",
       "      <td>0</td>\n",
       "      <td>1.0</td>\n",
       "      <td>NaN</td>\n",
       "      <td>1.0</td>\n",
       "      <td>12.0</td>\n",
       "      <td>24.693619</td>\n",
       "    </tr>\n",
       "    <tr>\n",
       "      <th>3</th>\n",
       "      <td>1</td>\n",
       "      <td>State_1</td>\n",
       "      <td>Commercial</td>\n",
       "      <td>Education_Other_classroom</td>\n",
       "      <td>55325.0</td>\n",
       "      <td>1980.0</td>\n",
       "      <td>46.0</td>\n",
       "      <td>1.8</td>\n",
       "      <td>36</td>\n",
       "      <td>50.5</td>\n",
       "      <td>...</td>\n",
       "      <td>0</td>\n",
       "      <td>14</td>\n",
       "      <td>0</td>\n",
       "      <td>0</td>\n",
       "      <td>0</td>\n",
       "      <td>1.0</td>\n",
       "      <td>NaN</td>\n",
       "      <td>1.0</td>\n",
       "      <td>12.0</td>\n",
       "      <td>48.406926</td>\n",
       "    </tr>\n",
       "    <tr>\n",
       "      <th>4</th>\n",
       "      <td>1</td>\n",
       "      <td>State_1</td>\n",
       "      <td>Commercial</td>\n",
       "      <td>Warehouse_Nonrefrigerated</td>\n",
       "      <td>66000.0</td>\n",
       "      <td>1985.0</td>\n",
       "      <td>100.0</td>\n",
       "      <td>2.4</td>\n",
       "      <td>36</td>\n",
       "      <td>50.5</td>\n",
       "      <td>...</td>\n",
       "      <td>0</td>\n",
       "      <td>14</td>\n",
       "      <td>0</td>\n",
       "      <td>0</td>\n",
       "      <td>0</td>\n",
       "      <td>1.0</td>\n",
       "      <td>1.0</td>\n",
       "      <td>1.0</td>\n",
       "      <td>NaN</td>\n",
       "      <td>3.899395</td>\n",
       "    </tr>\n",
       "  </tbody>\n",
       "</table>\n",
       "<p>5 rows × 63 columns</p>\n",
       "</div>"
      ],
      "text/plain": [
       "   Year_Factor State_Factor building_class  \\\n",
       "0            1      State_1     Commercial   \n",
       "1            1      State_1     Commercial   \n",
       "2            1      State_1     Commercial   \n",
       "3            1      State_1     Commercial   \n",
       "4            1      State_1     Commercial   \n",
       "\n",
       "                               facility_type  floor_area  year_built  \\\n",
       "0               Grocery_store_or_food_market     61242.0      1942.0   \n",
       "1  Warehouse_Distribution_or_Shipping_center    274000.0      1955.0   \n",
       "2                       Retail_Enclosed_mall    280025.0      1951.0   \n",
       "3                  Education_Other_classroom     55325.0      1980.0   \n",
       "4                  Warehouse_Nonrefrigerated     66000.0      1985.0   \n",
       "\n",
       "   energy_star_rating  ELEVATION  january_min_temp  january_avg_temp  ...  \\\n",
       "0                11.0        2.4                36              50.5  ...   \n",
       "1                45.0        1.8                36              50.5  ...   \n",
       "2                97.0        1.8                36              50.5  ...   \n",
       "3                46.0        1.8                36              50.5  ...   \n",
       "4               100.0        2.4                36              50.5  ...   \n",
       "\n",
       "   days_below_0F  days_above_80F  days_above_90F  days_above_100F  \\\n",
       "0              0              14               0                0   \n",
       "1              0              14               0                0   \n",
       "2              0              14               0                0   \n",
       "3              0              14               0                0   \n",
       "4              0              14               0                0   \n",
       "\n",
       "   days_above_110F  direction_max_wind_speed  direction_peak_wind_speed  \\\n",
       "0                0                       1.0                        1.0   \n",
       "1                0                       1.0                        NaN   \n",
       "2                0                       1.0                        NaN   \n",
       "3                0                       1.0                        NaN   \n",
       "4                0                       1.0                        1.0   \n",
       "\n",
       "   max_wind_speed  days_with_fog    site_eui  \n",
       "0             1.0            NaN  248.682615  \n",
       "1             1.0           12.0   26.500150  \n",
       "2             1.0           12.0   24.693619  \n",
       "3             1.0           12.0   48.406926  \n",
       "4             1.0            NaN    3.899395  \n",
       "\n",
       "[5 rows x 63 columns]"
      ]
     },
     "execution_count": 142,
     "metadata": {},
     "output_type": "execute_result"
    }
   ],
   "source": [
    "df.head()"
   ]
  },
  {
   "cell_type": "code",
   "execution_count": 143,
   "id": "16b13869-666c-4fff-9287-f52032e20762",
   "metadata": {},
   "outputs": [
    {
     "name": "stdout",
     "output_type": "stream",
     "text": [
      "<class 'pandas.core.frame.DataFrame'>\n",
      "RangeIndex: 75757 entries, 0 to 75756\n",
      "Data columns (total 63 columns):\n",
      " #   Column                     Non-Null Count  Dtype  \n",
      "---  ------                     --------------  -----  \n",
      " 0   Year_Factor                75757 non-null  int64  \n",
      " 1   State_Factor               75757 non-null  object \n",
      " 2   building_class             75757 non-null  object \n",
      " 3   facility_type              75757 non-null  object \n",
      " 4   floor_area                 75757 non-null  float64\n",
      " 5   year_built                 73920 non-null  float64\n",
      " 6   energy_star_rating         49048 non-null  float64\n",
      " 7   ELEVATION                  75757 non-null  float64\n",
      " 8   january_min_temp           75757 non-null  int64  \n",
      " 9   january_avg_temp           75757 non-null  float64\n",
      " 10  january_max_temp           75757 non-null  int64  \n",
      " 11  february_min_temp          75757 non-null  int64  \n",
      " 12  february_avg_temp          75757 non-null  float64\n",
      " 13  february_max_temp          75757 non-null  int64  \n",
      " 14  march_min_temp             75757 non-null  int64  \n",
      " 15  march_avg_temp             75757 non-null  float64\n",
      " 16  march_max_temp             75757 non-null  int64  \n",
      " 17  april_min_temp             75757 non-null  int64  \n",
      " 18  april_avg_temp             75757 non-null  float64\n",
      " 19  april_max_temp             75757 non-null  int64  \n",
      " 20  may_min_temp               75757 non-null  int64  \n",
      " 21  may_avg_temp               75757 non-null  float64\n",
      " 22  may_max_temp               75757 non-null  int64  \n",
      " 23  june_min_temp              75757 non-null  int64  \n",
      " 24  june_avg_temp              75757 non-null  float64\n",
      " 25  june_max_temp              75757 non-null  int64  \n",
      " 26  july_min_temp              75757 non-null  int64  \n",
      " 27  july_avg_temp              75757 non-null  float64\n",
      " 28  july_max_temp              75757 non-null  int64  \n",
      " 29  august_min_temp            75757 non-null  int64  \n",
      " 30  august_avg_temp            75757 non-null  float64\n",
      " 31  august_max_temp            75757 non-null  int64  \n",
      " 32  september_min_temp         75757 non-null  int64  \n",
      " 33  september_avg_temp         75757 non-null  float64\n",
      " 34  september_max_temp         75757 non-null  int64  \n",
      " 35  october_min_temp           75757 non-null  int64  \n",
      " 36  october_avg_temp           75757 non-null  float64\n",
      " 37  october_max_temp           75757 non-null  int64  \n",
      " 38  november_min_temp          75757 non-null  int64  \n",
      " 39  november_avg_temp          75757 non-null  float64\n",
      " 40  november_max_temp          75757 non-null  int64  \n",
      " 41  december_min_temp          75757 non-null  int64  \n",
      " 42  december_avg_temp          75757 non-null  float64\n",
      " 43  december_max_temp          75757 non-null  int64  \n",
      " 44  cooling_degree_days        75757 non-null  int64  \n",
      " 45  heating_degree_days        75757 non-null  int64  \n",
      " 46  precipitation_inches       75757 non-null  float64\n",
      " 47  snowfall_inches            75757 non-null  float64\n",
      " 48  snowdepth_inches           75757 non-null  int64  \n",
      " 49  avg_temp                   75757 non-null  float64\n",
      " 50  days_below_30F             75757 non-null  int64  \n",
      " 51  days_below_20F             75757 non-null  int64  \n",
      " 52  days_below_10F             75757 non-null  int64  \n",
      " 53  days_below_0F              75757 non-null  int64  \n",
      " 54  days_above_80F             75757 non-null  int64  \n",
      " 55  days_above_90F             75757 non-null  int64  \n",
      " 56  days_above_100F            75757 non-null  int64  \n",
      " 57  days_above_110F            75757 non-null  int64  \n",
      " 58  direction_max_wind_speed   34675 non-null  float64\n",
      " 59  direction_peak_wind_speed  33946 non-null  float64\n",
      " 60  max_wind_speed             34675 non-null  float64\n",
      " 61  days_with_fog              29961 non-null  float64\n",
      " 62  site_eui                   75757 non-null  float64\n",
      "dtypes: float64(24), int64(36), object(3)\n",
      "memory usage: 36.4+ MB\n"
     ]
    }
   ],
   "source": [
    "df.info()"
   ]
  },
  {
   "cell_type": "code",
   "execution_count": 144,
   "id": "9f3a165e-0957-436a-ba0f-7eeb7144fb8b",
   "metadata": {},
   "outputs": [],
   "source": [
    "TARGET_COLUMN = \"site_eui\""
   ]
  },
  {
   "cell_type": "code",
   "execution_count": 145,
   "id": "db3e640d-b34a-4005-9a75-e6b51f7525d8",
   "metadata": {},
   "outputs": [],
   "source": [
    "numeric_data = df.select_dtypes(include=[np.number])\n",
    "categorical_data = df.select_dtypes(exclude=[np.number])"
   ]
  },
  {
   "cell_type": "code",
   "execution_count": 146,
   "id": "5ca6cd4a-b254-4342-b592-6474d8837e60",
   "metadata": {},
   "outputs": [],
   "source": [
    "numeric_features = numeric_data.columns.tolist()\n",
    "numeric_features.remove(TARGET_COLUMN)\n",
    "categorical_features = categorical_data.columns.tolist()"
   ]
  },
  {
   "cell_type": "code",
   "execution_count": 147,
   "id": "d11ca70c-d1e8-43f9-bff5-aab3eb9496e0",
   "metadata": {},
   "outputs": [
    {
     "name": "stdout",
     "output_type": "stream",
     "text": [
      "['Year_Factor', 'floor_area', 'year_built', 'energy_star_rating', 'ELEVATION', 'january_min_temp', 'january_avg_temp', 'january_max_temp', 'february_min_temp', 'february_avg_temp', 'february_max_temp', 'march_min_temp', 'march_avg_temp', 'march_max_temp', 'april_min_temp', 'april_avg_temp', 'april_max_temp', 'may_min_temp', 'may_avg_temp', 'may_max_temp', 'june_min_temp', 'june_avg_temp', 'june_max_temp', 'july_min_temp', 'july_avg_temp', 'july_max_temp', 'august_min_temp', 'august_avg_temp', 'august_max_temp', 'september_min_temp', 'september_avg_temp', 'september_max_temp', 'october_min_temp', 'october_avg_temp', 'october_max_temp', 'november_min_temp', 'november_avg_temp', 'november_max_temp', 'december_min_temp', 'december_avg_temp', 'december_max_temp', 'cooling_degree_days', 'heating_degree_days', 'precipitation_inches', 'snowfall_inches', 'snowdepth_inches', 'avg_temp', 'days_below_30F', 'days_below_20F', 'days_below_10F', 'days_below_0F', 'days_above_80F', 'days_above_90F', 'days_above_100F', 'days_above_110F', 'direction_max_wind_speed', 'direction_peak_wind_speed', 'max_wind_speed', 'days_with_fog']\n"
     ]
    }
   ],
   "source": [
    "print(numeric_features)"
   ]
  },
  {
   "cell_type": "code",
   "execution_count": 148,
   "id": "6dd5ef15-47a7-45a2-8fb7-7a9b5e1db783",
   "metadata": {},
   "outputs": [
    {
     "data": {
      "text/plain": [
       "['State_Factor', 'building_class', 'facility_type']"
      ]
     },
     "execution_count": 148,
     "metadata": {},
     "output_type": "execute_result"
    }
   ],
   "source": [
    "categorical_features"
   ]
  },
  {
   "cell_type": "code",
   "execution_count": 149,
   "id": "fa1e82fb-3482-4ec0-ab96-585b4d1697ed",
   "metadata": {},
   "outputs": [],
   "source": [
    "train_df, val_df = train_test_split(\n",
    "    df,\n",
    "    test_size=0.1,\n",
    "    random_state=123\n",
    ")\n",
    "\n",
    "X_train, y_train = train_df.drop(columns=[TARGET_COLUMN]), train_df[TARGET_COLUMN]\n",
    "X_val, y_val = val_df.drop(columns=[TARGET_COLUMN]), val_df[TARGET_COLUMN]"
   ]
  },
  {
   "cell_type": "code",
   "execution_count": 154,
   "id": "cf89b6fa-cc15-407b-8540-45337c219346",
   "metadata": {},
   "outputs": [],
   "source": [
    "X_train_numeric = X_train[['Year_Factor', 'floor_area', 'year_built',\n",
    "                           'energy_star_rating', 'ELEVATION', 'january_min_temp', \n",
    "                           'january_avg_temp', 'january_max_temp', 'february_min_temp', \n",
    "                           'february_avg_temp', 'february_max_temp', 'march_min_temp', \n",
    "                           'march_avg_temp', 'march_max_temp', 'april_min_temp', \n",
    "                           'april_avg_temp', 'april_max_temp', 'may_min_temp', \n",
    "                           'may_avg_temp', 'may_max_temp', 'june_min_temp', 'june_avg_temp', 'june_max_temp', 'july_min_temp', 'july_avg_temp', 'july_max_temp', 'august_min_temp', 'august_avg_temp', 'august_max_temp', 'september_min_temp', 'september_avg_temp', 'september_max_temp', 'october_min_temp', 'october_avg_temp', 'october_max_temp', 'november_min_temp', 'november_avg_temp', 'november_max_temp', 'december_min_temp', 'december_avg_temp', 'december_max_temp', 'cooling_degree_days', 'heating_degree_days', 'precipitation_inches', 'snowfall_inches', 'snowdepth_inches', 'avg_temp', 'days_below_30F', 'days_below_20F', 'days_below_10F', 'days_below_0F', 'days_above_80F', 'days_above_90F', 'days_above_100F', 'days_above_110F', \n",
    "                           'direction_max_wind_speed', 'direction_peak_wind_speed', 'max_wind_speed', 'days_with_fog']]\n",
    "\n",
    "X_val_numeric = X_val[['Year_Factor', 'floor_area', 'year_built',\n",
    "                           'energy_star_rating', 'ELEVATION', 'january_min_temp', \n",
    "                           'january_avg_temp', 'january_max_temp', 'february_min_temp', \n",
    "                           'february_avg_temp', 'february_max_temp', 'march_min_temp', \n",
    "                           'march_avg_temp', 'march_max_temp', 'april_min_temp', \n",
    "                           'april_avg_temp', 'april_max_temp', 'may_min_temp', \n",
    "                           'may_avg_temp', 'may_max_temp', 'june_min_temp', 'june_avg_temp', 'june_max_temp', 'july_min_temp', 'july_avg_temp', 'july_max_temp', 'august_min_temp', 'august_avg_temp', 'august_max_temp', 'september_min_temp', 'september_avg_temp', 'september_max_temp', 'october_min_temp', 'october_avg_temp', 'october_max_temp', 'november_min_temp', 'november_avg_temp', 'november_max_temp', 'december_min_temp', 'december_avg_temp', 'december_max_temp', 'cooling_degree_days', 'heating_degree_days', 'precipitation_inches', 'snowfall_inches', 'snowdepth_inches', 'avg_temp', 'days_below_30F', 'days_below_20F', 'days_below_10F', 'days_below_0F', 'days_above_80F', 'days_above_90F', 'days_above_100F', 'days_above_110F', \n",
    "                           'direction_max_wind_speed', 'direction_peak_wind_speed', 'max_wind_speed', 'days_with_fog']]\n",
    "\n"
   ]
  },
  {
   "cell_type": "code",
   "execution_count": 156,
   "id": "d1965475-94f5-42c3-bc07-e6859b0e3a0c",
   "metadata": {},
   "outputs": [],
   "source": [
    "X_train_categorical = X_train[['State_Factor', 'building_class', 'facility_type']]\n",
    "X_val_categorical = X_train[['State_Factor', 'building_class', 'facility_type']]"
   ]
  },
  {
   "cell_type": "code",
   "execution_count": 157,
   "id": "847d2bf2-61a2-4fec-ba04-e30a94d8773d",
   "metadata": {},
   "outputs": [
    {
     "ename": "ValueError",
     "evalue": "could not convert string to float: 'State_6'",
     "output_type": "error",
     "traceback": [
      "\u001b[0;31m---------------------------------------------------------------------------\u001b[0m",
      "\u001b[0;31mValueError\u001b[0m                                Traceback (most recent call last)",
      "\u001b[0;32m/var/folders/9y/pzvnqtl16zx6ry42n8nkvdq40000gn/T/ipykernel_6293/348043853.py\u001b[0m in \u001b[0;36m<module>\u001b[0;34m\u001b[0m\n\u001b[1;32m      4\u001b[0m \u001b[0mX_train_categorical\u001b[0m \u001b[0;34m=\u001b[0m \u001b[0mX_train_categorical\u001b[0m\u001b[0;34m.\u001b[0m\u001b[0mcopy\u001b[0m\u001b[0;34m(\u001b[0m\u001b[0;34m)\u001b[0m\u001b[0;34m\u001b[0m\u001b[0;34m\u001b[0m\u001b[0m\n\u001b[1;32m      5\u001b[0m \u001b[0mX_val_categorical\u001b[0m \u001b[0;34m=\u001b[0m \u001b[0mX_val_categorical\u001b[0m\u001b[0;34m.\u001b[0m\u001b[0mcopy\u001b[0m\u001b[0;34m(\u001b[0m\u001b[0;34m)\u001b[0m\u001b[0;34m\u001b[0m\u001b[0;34m\u001b[0m\u001b[0m\n\u001b[0;32m----> 6\u001b[0;31m \u001b[0mX_train_categorical\u001b[0m\u001b[0;34m.\u001b[0m\u001b[0miloc\u001b[0m\u001b[0;34m[\u001b[0m\u001b[0;34m:\u001b[0m\u001b[0;34m,\u001b[0m \u001b[0;34m:\u001b[0m\u001b[0;34m]\u001b[0m \u001b[0;34m=\u001b[0m \u001b[0mknn\u001b[0m\u001b[0;34m.\u001b[0m\u001b[0mfit_transform\u001b[0m\u001b[0;34m(\u001b[0m\u001b[0mX_train_categorical\u001b[0m\u001b[0;34m)\u001b[0m\u001b[0;34m\u001b[0m\u001b[0;34m\u001b[0m\u001b[0m\n\u001b[0m\u001b[1;32m      7\u001b[0m \u001b[0mX_val_categorical\u001b[0m\u001b[0;34m.\u001b[0m\u001b[0miloc\u001b[0m\u001b[0;34m[\u001b[0m\u001b[0;34m:\u001b[0m\u001b[0;34m,\u001b[0m \u001b[0;34m:\u001b[0m\u001b[0;34m]\u001b[0m \u001b[0;34m=\u001b[0m \u001b[0mknn\u001b[0m\u001b[0;34m.\u001b[0m\u001b[0mtransform\u001b[0m\u001b[0;34m(\u001b[0m\u001b[0mX_val_categorical\u001b[0m\u001b[0;34m)\u001b[0m\u001b[0;34m\u001b[0m\u001b[0;34m\u001b[0m\u001b[0m\n",
      "\u001b[0;32m~/opt/anaconda3/envs/climatechange/lib/python3.9/site-packages/fancyimpute/solver.py\u001b[0m in \u001b[0;36mfit_transform\u001b[0;34m(self, X, y)\u001b[0m\n\u001b[1;32m    172\u001b[0m         \u001b[0mon\u001b[0m \u001b[0mnew\u001b[0m\u001b[0;31m \u001b[0m\u001b[0;31m`\u001b[0m\u001b[0mX_test\u001b[0m\u001b[0;31m`\u001b[0m\u001b[0;34m.\u001b[0m\u001b[0;34m\u001b[0m\u001b[0;34m\u001b[0m\u001b[0m\n\u001b[1;32m    173\u001b[0m         \"\"\"\n\u001b[0;32m--> 174\u001b[0;31m         \u001b[0mX_original\u001b[0m\u001b[0;34m,\u001b[0m \u001b[0mmissing_mask\u001b[0m \u001b[0;34m=\u001b[0m \u001b[0mself\u001b[0m\u001b[0;34m.\u001b[0m\u001b[0mprepare_input_data\u001b[0m\u001b[0;34m(\u001b[0m\u001b[0mX\u001b[0m\u001b[0;34m)\u001b[0m\u001b[0;34m\u001b[0m\u001b[0;34m\u001b[0m\u001b[0m\n\u001b[0m\u001b[1;32m    175\u001b[0m         \u001b[0mobserved_mask\u001b[0m \u001b[0;34m=\u001b[0m \u001b[0;34m~\u001b[0m\u001b[0mmissing_mask\u001b[0m\u001b[0;34m\u001b[0m\u001b[0;34m\u001b[0m\u001b[0m\n\u001b[1;32m    176\u001b[0m         \u001b[0mX\u001b[0m \u001b[0;34m=\u001b[0m \u001b[0mX_original\u001b[0m\u001b[0;34m.\u001b[0m\u001b[0mcopy\u001b[0m\u001b[0;34m(\u001b[0m\u001b[0;34m)\u001b[0m\u001b[0;34m\u001b[0m\u001b[0;34m\u001b[0m\u001b[0m\n",
      "\u001b[0;32m~/opt/anaconda3/envs/climatechange/lib/python3.9/site-packages/fancyimpute/solver.py\u001b[0m in \u001b[0;36mprepare_input_data\u001b[0;34m(self, X)\u001b[0m\n\u001b[1;32m    125\u001b[0m         \u001b[0mvalues\u001b[0m \u001b[0mare\u001b[0m \u001b[0mvalid\u001b[0m\u001b[0;34m.\u001b[0m \u001b[0mReturns\u001b[0m \u001b[0mX\u001b[0m \u001b[0;32mand\u001b[0m \u001b[0mmissing\u001b[0m \u001b[0mmask\u001b[0m\u001b[0;34m.\u001b[0m\u001b[0;34m\u001b[0m\u001b[0;34m\u001b[0m\u001b[0m\n\u001b[1;32m    126\u001b[0m         \"\"\"\n\u001b[0;32m--> 127\u001b[0;31m         \u001b[0mX\u001b[0m \u001b[0;34m=\u001b[0m \u001b[0mcheck_array\u001b[0m\u001b[0;34m(\u001b[0m\u001b[0mX\u001b[0m\u001b[0;34m,\u001b[0m \u001b[0mforce_all_finite\u001b[0m\u001b[0;34m=\u001b[0m\u001b[0;32mFalse\u001b[0m\u001b[0;34m)\u001b[0m\u001b[0;34m\u001b[0m\u001b[0;34m\u001b[0m\u001b[0m\n\u001b[0m\u001b[1;32m    128\u001b[0m         \u001b[0;32mif\u001b[0m \u001b[0mX\u001b[0m\u001b[0;34m.\u001b[0m\u001b[0mdtype\u001b[0m \u001b[0;34m!=\u001b[0m \u001b[0;34m\"f\"\u001b[0m \u001b[0;32mand\u001b[0m \u001b[0mX\u001b[0m\u001b[0;34m.\u001b[0m\u001b[0mdtype\u001b[0m \u001b[0;34m!=\u001b[0m \u001b[0;34m\"d\"\u001b[0m\u001b[0;34m:\u001b[0m\u001b[0;34m\u001b[0m\u001b[0;34m\u001b[0m\u001b[0m\n\u001b[1;32m    129\u001b[0m             \u001b[0mX\u001b[0m \u001b[0;34m=\u001b[0m \u001b[0mX\u001b[0m\u001b[0;34m.\u001b[0m\u001b[0mastype\u001b[0m\u001b[0;34m(\u001b[0m\u001b[0mfloat\u001b[0m\u001b[0;34m)\u001b[0m\u001b[0;34m\u001b[0m\u001b[0;34m\u001b[0m\u001b[0m\n",
      "\u001b[0;32m~/opt/anaconda3/envs/climatechange/lib/python3.9/site-packages/sklearn/utils/validation.py\u001b[0m in \u001b[0;36mcheck_array\u001b[0;34m(array, accept_sparse, accept_large_sparse, dtype, order, copy, force_all_finite, ensure_2d, allow_nd, ensure_min_samples, ensure_min_features, estimator)\u001b[0m\n\u001b[1;32m    744\u001b[0m                     \u001b[0marray\u001b[0m \u001b[0;34m=\u001b[0m \u001b[0marray\u001b[0m\u001b[0;34m.\u001b[0m\u001b[0mastype\u001b[0m\u001b[0;34m(\u001b[0m\u001b[0mdtype\u001b[0m\u001b[0;34m,\u001b[0m \u001b[0mcasting\u001b[0m\u001b[0;34m=\u001b[0m\u001b[0;34m\"unsafe\"\u001b[0m\u001b[0;34m,\u001b[0m \u001b[0mcopy\u001b[0m\u001b[0;34m=\u001b[0m\u001b[0;32mFalse\u001b[0m\u001b[0;34m)\u001b[0m\u001b[0;34m\u001b[0m\u001b[0;34m\u001b[0m\u001b[0m\n\u001b[1;32m    745\u001b[0m                 \u001b[0;32melse\u001b[0m\u001b[0;34m:\u001b[0m\u001b[0;34m\u001b[0m\u001b[0;34m\u001b[0m\u001b[0m\n\u001b[0;32m--> 746\u001b[0;31m                     \u001b[0marray\u001b[0m \u001b[0;34m=\u001b[0m \u001b[0mnp\u001b[0m\u001b[0;34m.\u001b[0m\u001b[0masarray\u001b[0m\u001b[0;34m(\u001b[0m\u001b[0marray\u001b[0m\u001b[0;34m,\u001b[0m \u001b[0morder\u001b[0m\u001b[0;34m=\u001b[0m\u001b[0morder\u001b[0m\u001b[0;34m,\u001b[0m \u001b[0mdtype\u001b[0m\u001b[0;34m=\u001b[0m\u001b[0mdtype\u001b[0m\u001b[0;34m)\u001b[0m\u001b[0;34m\u001b[0m\u001b[0;34m\u001b[0m\u001b[0m\n\u001b[0m\u001b[1;32m    747\u001b[0m             \u001b[0;32mexcept\u001b[0m \u001b[0mComplexWarning\u001b[0m \u001b[0;32mas\u001b[0m \u001b[0mcomplex_warning\u001b[0m\u001b[0;34m:\u001b[0m\u001b[0;34m\u001b[0m\u001b[0;34m\u001b[0m\u001b[0m\n\u001b[1;32m    748\u001b[0m                 raise ValueError(\n",
      "\u001b[0;32m~/opt/anaconda3/envs/climatechange/lib/python3.9/site-packages/pandas/core/generic.py\u001b[0m in \u001b[0;36m__array__\u001b[0;34m(self, dtype)\u001b[0m\n\u001b[1;32m   1991\u001b[0m \u001b[0;34m\u001b[0m\u001b[0m\n\u001b[1;32m   1992\u001b[0m     \u001b[0;32mdef\u001b[0m \u001b[0m__array__\u001b[0m\u001b[0;34m(\u001b[0m\u001b[0mself\u001b[0m\u001b[0;34m,\u001b[0m \u001b[0mdtype\u001b[0m\u001b[0;34m:\u001b[0m \u001b[0mNpDtype\u001b[0m \u001b[0;34m|\u001b[0m \u001b[0;32mNone\u001b[0m \u001b[0;34m=\u001b[0m \u001b[0;32mNone\u001b[0m\u001b[0;34m)\u001b[0m \u001b[0;34m->\u001b[0m \u001b[0mnp\u001b[0m\u001b[0;34m.\u001b[0m\u001b[0mndarray\u001b[0m\u001b[0;34m:\u001b[0m\u001b[0;34m\u001b[0m\u001b[0;34m\u001b[0m\u001b[0m\n\u001b[0;32m-> 1993\u001b[0;31m         \u001b[0;32mreturn\u001b[0m \u001b[0mnp\u001b[0m\u001b[0;34m.\u001b[0m\u001b[0masarray\u001b[0m\u001b[0;34m(\u001b[0m\u001b[0mself\u001b[0m\u001b[0;34m.\u001b[0m\u001b[0m_values\u001b[0m\u001b[0;34m,\u001b[0m \u001b[0mdtype\u001b[0m\u001b[0;34m=\u001b[0m\u001b[0mdtype\u001b[0m\u001b[0;34m)\u001b[0m\u001b[0;34m\u001b[0m\u001b[0;34m\u001b[0m\u001b[0m\n\u001b[0m\u001b[1;32m   1994\u001b[0m \u001b[0;34m\u001b[0m\u001b[0m\n\u001b[1;32m   1995\u001b[0m     def __array_wrap__(\n",
      "\u001b[0;31mValueError\u001b[0m: could not convert string to float: 'State_6'"
     ]
    }
   ],
   "source": [
    "from fancyimpute import KNN\n",
    "\n",
    "knn = KNN()\n",
    "X_train_categorical = X_train_categorical.copy()\n",
    "X_val_categorical = X_val_categorical.copy()\n",
    "X_train_categorical.iloc[:, :] = knn.fit_transform(X_train_categorical)\n",
    "X_val_categorical.iloc[:, :] = knn.transform(X_val_categorical)"
   ]
  },
  {
   "cell_type": "code",
   "execution_count": 155,
   "id": "85939c01-a77c-4376-8b91-01443f4397f7",
   "metadata": {},
   "outputs": [],
   "source": [
    "from fancyimpute import IterativeImputer\n",
    "mice_imp = IterativeImputer()\n",
    "X_train_mice = X_train_numeric.copy()\n",
    "X_val_mice = X_val_numeric.copy()\n",
    "X_train_mice.iloc[:, :] = mice_imp.fit_transform(X_train_mice)\n",
    "X_val_mice.iloc[:, :] = mice_imp.transform(X_val_mice)"
   ]
  },
  {
   "cell_type": "code",
   "execution_count": null,
   "id": "c310d798-f9e5-4114-ba3a-8e88d44387dd",
   "metadata": {},
   "outputs": [],
   "source": [
    "X_train"
   ]
  },
  {
   "cell_type": "markdown",
   "id": "ef72f4fb-b9f2-4aa9-92d1-e9da0cbc696f",
   "metadata": {},
   "source": [
    "### Model"
   ]
  },
  {
   "cell_type": "code",
   "execution_count": 17,
   "id": "d366b01f-64c6-4fcd-b229-bf4c71feb3f9",
   "metadata": {},
   "outputs": [],
   "source": [
    "from sklearn.model_selection import (\n",
    "    cross_val_score,\n",
    "    cross_validate,\n",
    "    train_test_split,\n",
    "    RandomizedSearchCV\n",
    ")\n",
    "\n",
    "from sklearn.preprocessing import (\n",
    "    OneHotEncoder,\n",
    "    StandardScaler,\n",
    "    FunctionTransformer,\n",
    "    PolynomialFeatures\n",
    ")\n",
    "\n",
    "from sklearn.impute import SimpleImputer\n",
    "\n",
    "from sklearn.pipeline import make_pipeline\n",
    "from sklearn.compose import make_column_transformer\n",
    "\n",
    "from sklearn.ensemble import RandomForestRegressor\n",
    "from sklearn.linear_model import Ridge\n",
    "\n",
    "from catboost import CatBoostRegressor\n",
    "from lightgbm.sklearn import LGBMRegressor\n",
    "from xgboost import XGBRegressor\n",
    "\n",
    "from sklearn.tree import DecisionTreeRegressor\n",
    "\n",
    "from sklearn.metrics import precision_recall_curve\n",
    "from sklearn.metrics import roc_curve\n",
    "\n",
    "from sklearn.metrics import mean_absolute_percentage_error\n",
    "from sklearn.metrics import mean_squared_error\n",
    "\n",
    "from sklearn.ensemble import StackingClassifier"
   ]
  },
  {
   "cell_type": "code",
   "execution_count": 18,
   "id": "32fd4b7b-b11b-4195-850a-af89b8bcd6e6",
   "metadata": {},
   "outputs": [],
   "source": [
    "import time"
   ]
  },
  {
   "cell_type": "code",
   "execution_count": 19,
   "id": "b417498a-8508-44bf-b863-29c12cae718b",
   "metadata": {},
   "outputs": [],
   "source": []
  },
  {
   "cell_type": "code",
   "execution_count": 20,
   "id": "ba72e40b-24ad-4ae1-b05b-c7970a5a9ae5",
   "metadata": {},
   "outputs": [
    {
     "name": "stdout",
     "output_type": "stream",
     "text": [
      "(68181, 62)\n",
      "(7576, 62)\n",
      "(68181,)\n",
      "(7576,)\n"
     ]
    }
   ],
   "source": [
    "for dt in [X_train, X_val, y_train, y_val]:\n",
    "    print(dt.shape)"
   ]
  },
  {
   "cell_type": "code",
   "execution_count": 21,
   "id": "6914bd0c-3bd1-4c5b-a15c-101118d6f1aa",
   "metadata": {},
   "outputs": [],
   "source": [
    "def cross_val_scores(model, X_train, y_train, X_val, y_val, return_train_score=False):\n",
    "\n",
    "    model.fit(X_train, y_train)\n",
    "    y_val_pred = model.predict(X_val)\n",
    "\n",
    "    score_dict = {\n",
    "        \"r2_val\": model.score(X_val, y_val),\n",
    "        \"mse_val\": mean_squared_error(y_val, y_val_pred),\n",
    "        \"mape_val\": mean_absolute_percentage_error(y_val, y_val_pred)\n",
    "    }\n",
    "\n",
    "    if return_train_score:\n",
    "        y_train_pred = model.predict(X_train)\n",
    "\n",
    "        score_dict[\"r2_train\"] = model.score(X_train, y_train)\n",
    "        score_dict[\"mse_train\"] = mean_squared_error(y_train, y_train_pred)\n",
    "        score_dict[\"mape_train\"] = mean_absolute_percentage_error(y_train, y_train_pred)\n",
    "\n",
    "    scores_result = pd.Series(score_dict)\n",
    "\n",
    "    return model, scores_result"
   ]
  },
  {
   "cell_type": "code",
   "execution_count": 22,
   "id": "8cd95a60-9c4d-4463-8667-463624eb2727",
   "metadata": {},
   "outputs": [],
   "source": [
    "pipe_numeric_feats = make_pipeline(\n",
    "    SimpleImputer(strategy=\"mean\"),\n",
    "    StandardScaler()\n",
    ")\n",
    "\n",
    "column_transformer = make_column_transformer(\n",
    "    (pipe_numeric_feats, numeric_features),\n",
    "    (OneHotEncoder(), categorical_features)\n",
    ")"
   ]
  },
  {
   "cell_type": "code",
   "execution_count": 24,
   "id": "1ea2d614-9e3c-407b-847f-888921fdda46",
   "metadata": {},
   "outputs": [],
   "source": [
    "pipe_lr = make_pipeline(column_transformer, Ridge(max_iter=10000))\n",
    "pipe_dt = make_pipeline(column_transformer, DecisionTreeRegressor())\n",
    "# pipe_svc = make_pipeline(column_transformer, SVC())\n",
    "pipe_rf = make_pipeline(column_transformer, RandomForestRegressor())\n",
    "pipe_xgb = make_pipeline(column_transformer, XGBRegressor(verbosity=0))\n",
    "pipe_lgbm = make_pipeline(column_transformer, LGBMRegressor())\n",
    "pipe_catboost = make_pipeline(column_transformer, CatBoostRegressor(verbose=False))"
   ]
  },
  {
   "cell_type": "code",
   "execution_count": 25,
   "id": "48fa78b2-acb3-44fd-8a19-299c14b7a8a8",
   "metadata": {},
   "outputs": [],
   "source": [
    "models = {\n",
    "    \"Logistic Regression\": pipe_lr,\n",
    "    \"Decision Tree\": pipe_dt,\n",
    "    \"Random Forest\": pipe_rf,\n",
    "    \"XGB\": pipe_xgb,\n",
    "    \"LGBM\": pipe_lgbm,\n",
    "    \"Cat Boost\": pipe_catboost\n",
    "}"
   ]
  },
  {
   "cell_type": "code",
   "execution_count": 18,
   "id": "6bdb9680-020e-4061-8a09-e91284d13d70",
   "metadata": {},
   "outputs": [
    {
     "name": "stdout",
     "output_type": "stream",
     "text": [
      "Start Logistic Regression!\n",
      "Done Logistic Regression!\n",
      "Start Decision Tree!\n",
      "Done Decision Tree!\n",
      "Start Random Forest!\n",
      "Done Random Forest!\n",
      "Start XGB!\n",
      "Done XGB!\n",
      "Start LGBM!\n",
      "Done LGBM!\n",
      "Start Cat Boost!\n",
      "Done Cat Boost!\n"
     ]
    }
   ],
   "source": [
    "results = {}\n",
    "\n",
    "for name, model in models.items():\n",
    "    print(f\"Start {name}!\")\n",
    "    _, results[name] = cross_val_scores(\n",
    "        model,\n",
    "        X_train,\n",
    "        y_train,\n",
    "        X_val,\n",
    "        y_val,\n",
    "        return_train_score=True\n",
    "    )\n",
    "\n",
    "    print(f\"Done {name}!\")\n"
   ]
  },
  {
   "cell_type": "code",
   "execution_count": 19,
   "id": "c626e95b-4784-40ce-a463-e41dae3e1a1f",
   "metadata": {},
   "outputs": [
    {
     "data": {
      "text/html": [
       "<div>\n",
       "<style scoped>\n",
       "    .dataframe tbody tr th:only-of-type {\n",
       "        vertical-align: middle;\n",
       "    }\n",
       "\n",
       "    .dataframe tbody tr th {\n",
       "        vertical-align: top;\n",
       "    }\n",
       "\n",
       "    .dataframe thead th {\n",
       "        text-align: right;\n",
       "    }\n",
       "</style>\n",
       "<table border=\"1\" class=\"dataframe\">\n",
       "  <thead>\n",
       "    <tr style=\"text-align: right;\">\n",
       "      <th></th>\n",
       "      <th>Logistic Regression</th>\n",
       "      <th>Decision Tree</th>\n",
       "      <th>Random Forest</th>\n",
       "      <th>XGB</th>\n",
       "      <th>LGBM</th>\n",
       "      <th>Cat Boost</th>\n",
       "    </tr>\n",
       "  </thead>\n",
       "  <tbody>\n",
       "    <tr>\n",
       "      <th>r2_val</th>\n",
       "      <td>0.384811</td>\n",
       "      <td>0.188294</td>\n",
       "      <td>0.552406</td>\n",
       "      <td>0.531974</td>\n",
       "      <td>0.494534</td>\n",
       "      <td>0.529375</td>\n",
       "    </tr>\n",
       "    <tr>\n",
       "      <th>mse_val</th>\n",
       "      <td>1910.059142</td>\n",
       "      <td>2520.213329</td>\n",
       "      <td>1389.706644</td>\n",
       "      <td>1453.143337</td>\n",
       "      <td>1569.389215</td>\n",
       "      <td>1461.211709</td>\n",
       "    </tr>\n",
       "    <tr>\n",
       "      <th>mape_val</th>\n",
       "      <td>0.515553</td>\n",
       "      <td>0.423858</td>\n",
       "      <td>0.378454</td>\n",
       "      <td>0.424709</td>\n",
       "      <td>0.451351</td>\n",
       "      <td>0.426646</td>\n",
       "    </tr>\n",
       "    <tr>\n",
       "      <th>r2_train</th>\n",
       "      <td>0.355856</td>\n",
       "      <td>0.999416</td>\n",
       "      <td>0.936742</td>\n",
       "      <td>0.668158</td>\n",
       "      <td>0.535998</td>\n",
       "      <td>0.629726</td>\n",
       "    </tr>\n",
       "    <tr>\n",
       "      <th>mse_train</th>\n",
       "      <td>2206.647047</td>\n",
       "      <td>2.001399</td>\n",
       "      <td>216.703697</td>\n",
       "      <td>1136.793266</td>\n",
       "      <td>1589.534230</td>\n",
       "      <td>1268.447180</td>\n",
       "    </tr>\n",
       "    <tr>\n",
       "      <th>mape_train</th>\n",
       "      <td>0.592920</td>\n",
       "      <td>0.001816</td>\n",
       "      <td>0.159051</td>\n",
       "      <td>0.441472</td>\n",
       "      <td>0.496587</td>\n",
       "      <td>0.459088</td>\n",
       "    </tr>\n",
       "  </tbody>\n",
       "</table>\n",
       "</div>"
      ],
      "text/plain": [
       "            Logistic Regression  Decision Tree  Random Forest          XGB  \\\n",
       "r2_val                 0.384811       0.188294       0.552406     0.531974   \n",
       "mse_val             1910.059142    2520.213329    1389.706644  1453.143337   \n",
       "mape_val               0.515553       0.423858       0.378454     0.424709   \n",
       "r2_train               0.355856       0.999416       0.936742     0.668158   \n",
       "mse_train           2206.647047       2.001399     216.703697  1136.793266   \n",
       "mape_train             0.592920       0.001816       0.159051     0.441472   \n",
       "\n",
       "                   LGBM    Cat Boost  \n",
       "r2_val         0.494534     0.529375  \n",
       "mse_val     1569.389215  1461.211709  \n",
       "mape_val       0.451351     0.426646  \n",
       "r2_train       0.535998     0.629726  \n",
       "mse_train   1589.534230  1268.447180  \n",
       "mape_train     0.496587     0.459088  "
      ]
     },
     "execution_count": 19,
     "metadata": {},
     "output_type": "execute_result"
    }
   ],
   "source": [
    "#pd.DataFrame(results)"
   ]
  },
  {
   "cell_type": "markdown",
   "id": "abdb4314-b45a-4c4d-9d22-af912ce2f02e",
   "metadata": {},
   "source": [
    "## FCNN"
   ]
  },
  {
   "cell_type": "code",
   "execution_count": 74,
   "id": "8c542a6f-1ec4-4215-8d70-caf597351535",
   "metadata": {},
   "outputs": [],
   "source": [
    "import numpy as np\n",
    "import pandas as pd\n",
    "from torchvision import transforms, datasets, utils\n",
    "import torch\n",
    "from torch.utils.data import DataLoader, TensorDataset, random_split, Dataset\n",
    "from torch import Tensor\n",
    "from torch.nn import Linear\n",
    "from torch.nn import Sigmoid\n",
    "from torch.nn import Module\n",
    "from torch.optim import SGD\n",
    "from torch.nn import MSELoss\n",
    "import torch.utils.data as data\n",
    "from torch import nn"
   ]
  },
  {
   "cell_type": "code",
   "execution_count": 55,
   "id": "e90b9837-ae34-491c-a3db-09f82b308a19",
   "metadata": {},
   "outputs": [],
   "source": [
    "train_path = \"data/train.csv\""
   ]
  },
  {
   "cell_type": "code",
   "execution_count": 62,
   "id": "c08d55de-e0ca-4ffa-bd22-39485613d538",
   "metadata": {},
   "outputs": [
    {
     "name": "stdout",
     "output_type": "stream",
     "text": [
      "<class 'pandas.core.frame.DataFrame'>\n",
      "RangeIndex: 75757 entries, 0 to 75756\n",
      "Data columns (total 63 columns):\n",
      " #   Column                     Non-Null Count  Dtype  \n",
      "---  ------                     --------------  -----  \n",
      " 0   Year_Factor                75757 non-null  int64  \n",
      " 1   State_Factor               75757 non-null  object \n",
      " 2   building_class             75757 non-null  object \n",
      " 3   facility_type              75757 non-null  object \n",
      " 4   floor_area                 75757 non-null  float64\n",
      " 5   year_built                 73920 non-null  float64\n",
      " 6   energy_star_rating         49048 non-null  float64\n",
      " 7   ELEVATION                  75757 non-null  float64\n",
      " 8   january_min_temp           75757 non-null  int64  \n",
      " 9   january_avg_temp           75757 non-null  float64\n",
      " 10  january_max_temp           75757 non-null  int64  \n",
      " 11  february_min_temp          75757 non-null  int64  \n",
      " 12  february_avg_temp          75757 non-null  float64\n",
      " 13  february_max_temp          75757 non-null  int64  \n",
      " 14  march_min_temp             75757 non-null  int64  \n",
      " 15  march_avg_temp             75757 non-null  float64\n",
      " 16  march_max_temp             75757 non-null  int64  \n",
      " 17  april_min_temp             75757 non-null  int64  \n",
      " 18  april_avg_temp             75757 non-null  float64\n",
      " 19  april_max_temp             75757 non-null  int64  \n",
      " 20  may_min_temp               75757 non-null  int64  \n",
      " 21  may_avg_temp               75757 non-null  float64\n",
      " 22  may_max_temp               75757 non-null  int64  \n",
      " 23  june_min_temp              75757 non-null  int64  \n",
      " 24  june_avg_temp              75757 non-null  float64\n",
      " 25  june_max_temp              75757 non-null  int64  \n",
      " 26  july_min_temp              75757 non-null  int64  \n",
      " 27  july_avg_temp              75757 non-null  float64\n",
      " 28  july_max_temp              75757 non-null  int64  \n",
      " 29  august_min_temp            75757 non-null  int64  \n",
      " 30  august_avg_temp            75757 non-null  float64\n",
      " 31  august_max_temp            75757 non-null  int64  \n",
      " 32  september_min_temp         75757 non-null  int64  \n",
      " 33  september_avg_temp         75757 non-null  float64\n",
      " 34  september_max_temp         75757 non-null  int64  \n",
      " 35  october_min_temp           75757 non-null  int64  \n",
      " 36  october_avg_temp           75757 non-null  float64\n",
      " 37  october_max_temp           75757 non-null  int64  \n",
      " 38  november_min_temp          75757 non-null  int64  \n",
      " 39  november_avg_temp          75757 non-null  float64\n",
      " 40  november_max_temp          75757 non-null  int64  \n",
      " 41  december_min_temp          75757 non-null  int64  \n",
      " 42  december_avg_temp          75757 non-null  float64\n",
      " 43  december_max_temp          75757 non-null  int64  \n",
      " 44  cooling_degree_days        75757 non-null  int64  \n",
      " 45  heating_degree_days        75757 non-null  int64  \n",
      " 46  precipitation_inches       75757 non-null  float64\n",
      " 47  snowfall_inches            75757 non-null  float64\n",
      " 48  snowdepth_inches           75757 non-null  int64  \n",
      " 49  avg_temp                   75757 non-null  float64\n",
      " 50  days_below_30F             75757 non-null  int64  \n",
      " 51  days_below_20F             75757 non-null  int64  \n",
      " 52  days_below_10F             75757 non-null  int64  \n",
      " 53  days_below_0F              75757 non-null  int64  \n",
      " 54  days_above_80F             75757 non-null  int64  \n",
      " 55  days_above_90F             75757 non-null  int64  \n",
      " 56  days_above_100F            75757 non-null  int64  \n",
      " 57  days_above_110F            75757 non-null  int64  \n",
      " 58  direction_max_wind_speed   34675 non-null  float64\n",
      " 59  direction_peak_wind_speed  33946 non-null  float64\n",
      " 60  max_wind_speed             34675 non-null  float64\n",
      " 61  days_with_fog              29961 non-null  float64\n",
      " 62  site_eui                   75757 non-null  float64\n",
      "dtypes: float64(24), int64(36), object(3)\n",
      "memory usage: 36.4+ MB\n"
     ]
    }
   ],
   "source": [
    "df.info()"
   ]
  },
  {
   "cell_type": "code",
   "execution_count": 96,
   "id": "9d25bb16-da89-4ad0-8e49-9cf027d6c5af",
   "metadata": {},
   "outputs": [
    {
     "name": "stdout",
     "output_type": "stream",
     "text": [
      "tensor([[-1.6088, -0.4308, -0.6296,  ...,  0.0000,  0.0000,  0.0000],\n",
      "        [ 1.1078, -0.4492,  0.9359,  ...,  0.0000,  0.0000,  0.0000],\n",
      "        [ 0.4286,  1.0322,  0.5580,  ...,  0.0000,  0.0000,  0.0000],\n",
      "        ...,\n",
      "        [-1.6088,  1.8155,  0.3421,  ...,  0.0000,  0.0000,  0.0000],\n",
      "        [-0.9297, -0.4159, -1.0615,  ...,  0.0000,  0.0000,  0.0000],\n",
      "        [-2.2880, -0.1976, -1.0615,  ...,  0.0000,  0.0000,  0.0000]],\n",
      "       dtype=torch.float64)\n"
     ]
    }
   ],
   "source": [
    "class Dataprep(Dataset):\n",
    "    \n",
    "    def __init__(self, path, size=0.1):\n",
    "        \n",
    "        df = pd.read_csv(path)\n",
    "        # val_size = round(0.1 * len(df))\n",
    "        # train_size = len(df) - val_size\n",
    "        # train_df, val_df = data.random_split(df, [train_size, val_size])\n",
    "        \n",
    "        train_df, val_df = train_test_split(\n",
    "            df,\n",
    "            test_size=0.1,\n",
    "            random_state=123\n",
    "        )\n",
    "\n",
    "        self.X_train, self.y_train = train_df.drop(columns=[TARGET_COLUMN]), train_df[TARGET_COLUMN]\n",
    "        self.X_val, self.y_val = val_df.drop(columns=[TARGET_COLUMN]), val_df[TARGET_COLUMN]\n",
    "    \n",
    "    def preprocess(self):\n",
    "        \n",
    "        numeric_data = self.X_train.select_dtypes(include=[np.number])\n",
    "        categorical_data = self.X_train.select_dtypes(exclude=[np.number])\n",
    "        pipe_numeric_feats = make_pipeline(\n",
    "           SimpleImputer(strategy=\"mean\"),\n",
    "           StandardScaler()\n",
    "        )\n",
    "        column_transformer = make_column_transformer(\n",
    "            (pipe_numeric_feats, numeric_features),\n",
    "            (OneHotEncoder(), categorical_features)\n",
    "        )\n",
    "        \n",
    "        # print(self.X_train)\n",
    "        \n",
    "        \n",
    "        self.X_train = column_transformer.fit_transform(self.X_train)\n",
    "        self.X_val = column_transformer.transform(self.X_val)\n",
    "        \n",
    "        self.X_train = torch.tensor(self.X_train)\n",
    "        self.y_train = torch.tensor(self.y_train.values)\n",
    "        self.X_val = torch.tensor(self.X_val)\n",
    "        self.y_val = torch.tensor(self.y_val.values)\n",
    "        \n",
    "\n",
    "feature_set = Dataprep(train_path)\n",
    "feature_set.preprocess()\n",
    "print(feature_set.X_train)"
   ]
  },
  {
   "cell_type": "code",
   "execution_count": 116,
   "id": "ccce2c01-ee97-4ae6-8a5b-ec1f5cf519f4",
   "metadata": {},
   "outputs": [],
   "source": [
    "def linear_block(input_size, output_size):\n",
    "    return nn.Sequential(\n",
    "        nn.Linear(input_size, output_size),\n",
    "        nn.ReLU(),\n",
    "        nn.Dropout(0.2)\n",
    "    )\n",
    "\n",
    "class EnergyRegressor(nn.Module):\n",
    "    def __init__(self, input_size):\n",
    "        super().__init__()\n",
    "        self.layers = nn.Sequential(\n",
    "            linear_block(input_size, 2 * input_size),\n",
    "            linear_block(2 * input_size, 3 * input_size),\n",
    "            linear_block(3 * input_size, 1 * input_size),\n",
    "            nn.Linear(input_size, 256),\n",
    "            nn.Linear(256, 128),\n",
    "            nn.Linear(128, 64),\n",
    "            nn.Linear(64, 1)\n",
    "        )\n",
    "    \n",
    "    def forward(self, X):\n",
    "        X = self.layers(X),\n",
    "        X = nn.RelU(X)\n",
    "        return X\n",
    "        \n",
    "        "
   ]
  },
  {
   "cell_type": "code",
   "execution_count": 117,
   "id": "1ba78fa5-2dc4-4180-b673-5ca305d71bdb",
   "metadata": {},
   "outputs": [
    {
     "data": {
      "text/plain": [
       "tensor([ 68.2608,  79.1831,  89.4246,  ...,  74.5742, 121.4672,  23.4724],\n",
       "       dtype=torch.float64)"
      ]
     },
     "execution_count": 117,
     "metadata": {},
     "output_type": "execute_result"
    }
   ],
   "source": [
    "feature_set.y_val"
   ]
  },
  {
   "cell_type": "code",
   "execution_count": 118,
   "id": "ad6dc1a2-af61-4930-afe0-1408e71e3729",
   "metadata": {},
   "outputs": [
    {
     "data": {
      "text/plain": [
       "torch.Tensor"
      ]
     },
     "execution_count": 118,
     "metadata": {},
     "output_type": "execute_result"
    }
   ],
   "source": [
    "type(feature_set.y_train)"
   ]
  },
  {
   "cell_type": "code",
   "execution_count": 119,
   "id": "8821e9b7-eb44-4396-b058-46a286212344",
   "metadata": {},
   "outputs": [],
   "source": [
    "trainloader = DataLoader(TensorDataset(feature_set.X_train, feature_set.y_train), batch_size=1, shuffle=True)\n",
    "validloader = DataLoader(TensorDataset(feature_set.X_val, feature_set.y_val), batch_size=1, shuffle=True)"
   ]
  },
  {
   "cell_type": "code",
   "execution_count": 120,
   "id": "d1da8895-f345-4be9-971e-c5e877f076b5",
   "metadata": {},
   "outputs": [
    {
     "data": {
      "text/plain": [
       "128"
      ]
     },
     "execution_count": 120,
     "metadata": {},
     "output_type": "execute_result"
    }
   ],
   "source": [
    "feature_set.X_train.shape[1]"
   ]
  },
  {
   "cell_type": "code",
   "execution_count": 121,
   "id": "ea0c860d-c160-48b3-86c3-5f74b8d3b05c",
   "metadata": {},
   "outputs": [],
   "source": [
    "model = EnergyRegressor(feature_set.X_train.shape[1])"
   ]
  },
  {
   "cell_type": "code",
   "execution_count": null,
   "id": "4f62af26-4556-4920-b10e-30ce913ac68e",
   "metadata": {},
   "outputs": [],
   "source": [
    "def mse(predictions, targets):\n",
    "    return np.mean((predictions - targets) ** 2)\n",
    "        \n",
    "def rmse(predictions, targets):\n",
    "    return np.sqrt(((predictions - targets) ** 2).mean())\n",
    "        "
   ]
  },
  {
   "cell_type": "code",
   "execution_count": 130,
   "id": "b759c59c-b229-43cd-bd5b-6c0ab56c77eb",
   "metadata": {},
   "outputs": [],
   "source": [
    "def trainer(model, criterion, optimizer, trainloader, validloader, epochs):\n",
    "    \n",
    "    train_error = []\n",
    "    valid_error = []\n",
    "    \n",
    "    preds, labels = [], []\n",
    "    \n",
    "    for epoch in range(epochs):  \n",
    "        for X, y in trainloader:\n",
    "            \n",
    "            optimizer.zero_grad()       \n",
    "            y_hat = model(X).flatten()  \n",
    "            loss = criterion(y_hat, y)  \n",
    "            loss.backward()             \n",
    "            optimizer.step()\n",
    "            \n",
    "            \n",
    "            train_error.append((y_hat - y))\n",
    "        \n",
    "        with torch.no_grad():  \n",
    "            for X_valid, y_valid in validloader:\n",
    "                y_hat = model(X_valid).flatten()  \n",
    "                loss = criterion(y_hat, y_valid)\n",
    "                \n",
    "                preds.extend(y_hat)\n",
    "                labels.extend(y_valid)\n",
    "            # valid_error.append((y_hat - y))\n",
    "        \n",
    "        \n",
    "    train_mse = torch.mean()\n",
    "    val_mse = torch.mean()\n",
    "    train_rsme = torch.\n",
    "    val_rsme = torch.\n",
    "        \n",
    "    return train_loss, valid_loss, train_accuracy, valid_accuracy"
   ]
  },
  {
   "cell_type": "code",
   "execution_count": 133,
   "id": "339ee6c1-afd1-4eb9-bbd9-a92eb9f3a774",
   "metadata": {},
   "outputs": [
    {
     "data": {
      "text/plain": [
       "array([False,  True,  True])"
      ]
     },
     "execution_count": 133,
     "metadata": {},
     "output_type": "execute_result"
    }
   ],
   "source": [
    "np.array([1, 2, 3]) == np.array([2, 2, 3])"
   ]
  },
  {
   "cell_type": "code",
   "execution_count": 131,
   "id": "57ea68a4-6e72-45ec-8998-2cb96967d93e",
   "metadata": {},
   "outputs": [
    {
     "ename": "RuntimeError",
     "evalue": "expected scalar type Float but found Double",
     "output_type": "error",
     "traceback": [
      "\u001b[0;31m---------------------------------------------------------------------------\u001b[0m",
      "\u001b[0;31mRuntimeError\u001b[0m                              Traceback (most recent call last)",
      "\u001b[0;32m/var/folders/9y/pzvnqtl16zx6ry42n8nkvdq40000gn/T/ipykernel_6293/1757126523.py\u001b[0m in \u001b[0;36m<module>\u001b[0;34m\u001b[0m\n\u001b[1;32m      1\u001b[0m \u001b[0mcriterion\u001b[0m \u001b[0;34m=\u001b[0m \u001b[0mtorch\u001b[0m\u001b[0;34m.\u001b[0m\u001b[0mnn\u001b[0m\u001b[0;34m.\u001b[0m\u001b[0mMSELoss\u001b[0m\u001b[0;34m(\u001b[0m\u001b[0;34m)\u001b[0m\u001b[0;34m\u001b[0m\u001b[0;34m\u001b[0m\u001b[0m\n\u001b[1;32m      2\u001b[0m \u001b[0moptimizer\u001b[0m \u001b[0;34m=\u001b[0m \u001b[0mtorch\u001b[0m\u001b[0;34m.\u001b[0m\u001b[0moptim\u001b[0m\u001b[0;34m.\u001b[0m\u001b[0mAdam\u001b[0m\u001b[0;34m(\u001b[0m\u001b[0mmodel\u001b[0m\u001b[0;34m.\u001b[0m\u001b[0mparameters\u001b[0m\u001b[0;34m(\u001b[0m\u001b[0;34m)\u001b[0m\u001b[0;34m,\u001b[0m \u001b[0mlr\u001b[0m\u001b[0;34m=\u001b[0m\u001b[0;36m0.05\u001b[0m\u001b[0;34m)\u001b[0m\u001b[0;34m\u001b[0m\u001b[0;34m\u001b[0m\u001b[0m\n\u001b[0;32m----> 3\u001b[0;31m \u001b[0mtrain_loss\u001b[0m\u001b[0;34m,\u001b[0m \u001b[0mvalid_loss\u001b[0m\u001b[0;34m,\u001b[0m \u001b[0mtrain_accuracy\u001b[0m\u001b[0;34m,\u001b[0m \u001b[0mvalid_accuracy\u001b[0m \u001b[0;34m=\u001b[0m \u001b[0mtrainer\u001b[0m\u001b[0;34m(\u001b[0m\u001b[0mmodel\u001b[0m\u001b[0;34m,\u001b[0m \u001b[0mcriterion\u001b[0m\u001b[0;34m,\u001b[0m \u001b[0moptimizer\u001b[0m\u001b[0;34m,\u001b[0m \u001b[0mtrainloader\u001b[0m\u001b[0;34m,\u001b[0m \u001b[0mvalidloader\u001b[0m\u001b[0;34m,\u001b[0m \u001b[0mepochs\u001b[0m\u001b[0;34m=\u001b[0m\u001b[0;36m50\u001b[0m\u001b[0;34m)\u001b[0m\u001b[0;34m\u001b[0m\u001b[0;34m\u001b[0m\u001b[0m\n\u001b[0m\u001b[1;32m      4\u001b[0m \u001b[0;31m#plot_loss(train_loss, valid_loss)\u001b[0m\u001b[0;34m\u001b[0m\u001b[0;34m\u001b[0m\u001b[0m\n",
      "\u001b[0;32m/var/folders/9y/pzvnqtl16zx6ry42n8nkvdq40000gn/T/ipykernel_6293/2217976474.py\u001b[0m in \u001b[0;36mtrainer\u001b[0;34m(model, criterion, optimizer, trainloader, validloader, epochs)\u001b[0m\n\u001b[1;32m     17\u001b[0m \u001b[0;34m\u001b[0m\u001b[0m\n\u001b[1;32m     18\u001b[0m             \u001b[0moptimizer\u001b[0m\u001b[0;34m.\u001b[0m\u001b[0mzero_grad\u001b[0m\u001b[0;34m(\u001b[0m\u001b[0;34m)\u001b[0m\u001b[0;34m\u001b[0m\u001b[0;34m\u001b[0m\u001b[0m\n\u001b[0;32m---> 19\u001b[0;31m             \u001b[0my_hat\u001b[0m \u001b[0;34m=\u001b[0m \u001b[0mmodel\u001b[0m\u001b[0;34m(\u001b[0m\u001b[0mX\u001b[0m\u001b[0;34m)\u001b[0m\u001b[0;34m.\u001b[0m\u001b[0mflatten\u001b[0m\u001b[0;34m(\u001b[0m\u001b[0;34m)\u001b[0m\u001b[0;34m\u001b[0m\u001b[0;34m\u001b[0m\u001b[0m\n\u001b[0m\u001b[1;32m     20\u001b[0m             \u001b[0mloss\u001b[0m \u001b[0;34m=\u001b[0m \u001b[0mcriterion\u001b[0m\u001b[0;34m(\u001b[0m\u001b[0my_hat\u001b[0m\u001b[0;34m,\u001b[0m \u001b[0my\u001b[0m\u001b[0;34m)\u001b[0m\u001b[0;34m\u001b[0m\u001b[0;34m\u001b[0m\u001b[0m\n\u001b[1;32m     21\u001b[0m             \u001b[0mloss\u001b[0m\u001b[0;34m.\u001b[0m\u001b[0mbackward\u001b[0m\u001b[0;34m(\u001b[0m\u001b[0;34m)\u001b[0m\u001b[0;34m\u001b[0m\u001b[0;34m\u001b[0m\u001b[0m\n",
      "\u001b[0;32m~/opt/anaconda3/envs/climatechange/lib/python3.9/site-packages/torch/nn/modules/module.py\u001b[0m in \u001b[0;36m_call_impl\u001b[0;34m(self, *input, **kwargs)\u001b[0m\n\u001b[1;32m   1100\u001b[0m         if not (self._backward_hooks or self._forward_hooks or self._forward_pre_hooks or _global_backward_hooks\n\u001b[1;32m   1101\u001b[0m                 or _global_forward_hooks or _global_forward_pre_hooks):\n\u001b[0;32m-> 1102\u001b[0;31m             \u001b[0;32mreturn\u001b[0m \u001b[0mforward_call\u001b[0m\u001b[0;34m(\u001b[0m\u001b[0;34m*\u001b[0m\u001b[0minput\u001b[0m\u001b[0;34m,\u001b[0m \u001b[0;34m**\u001b[0m\u001b[0mkwargs\u001b[0m\u001b[0;34m)\u001b[0m\u001b[0;34m\u001b[0m\u001b[0;34m\u001b[0m\u001b[0m\n\u001b[0m\u001b[1;32m   1103\u001b[0m         \u001b[0;31m# Do not call functions when jit is used\u001b[0m\u001b[0;34m\u001b[0m\u001b[0;34m\u001b[0m\u001b[0m\n\u001b[1;32m   1104\u001b[0m         \u001b[0mfull_backward_hooks\u001b[0m\u001b[0;34m,\u001b[0m \u001b[0mnon_full_backward_hooks\u001b[0m \u001b[0;34m=\u001b[0m \u001b[0;34m[\u001b[0m\u001b[0;34m]\u001b[0m\u001b[0;34m,\u001b[0m \u001b[0;34m[\u001b[0m\u001b[0;34m]\u001b[0m\u001b[0;34m\u001b[0m\u001b[0;34m\u001b[0m\u001b[0m\n",
      "\u001b[0;32m/var/folders/9y/pzvnqtl16zx6ry42n8nkvdq40000gn/T/ipykernel_6293/461828857.py\u001b[0m in \u001b[0;36mforward\u001b[0;34m(self, X)\u001b[0m\n\u001b[1;32m     20\u001b[0m \u001b[0;34m\u001b[0m\u001b[0m\n\u001b[1;32m     21\u001b[0m     \u001b[0;32mdef\u001b[0m \u001b[0mforward\u001b[0m\u001b[0;34m(\u001b[0m\u001b[0mself\u001b[0m\u001b[0;34m,\u001b[0m \u001b[0mX\u001b[0m\u001b[0;34m)\u001b[0m\u001b[0;34m:\u001b[0m\u001b[0;34m\u001b[0m\u001b[0;34m\u001b[0m\u001b[0m\n\u001b[0;32m---> 22\u001b[0;31m         \u001b[0mX\u001b[0m \u001b[0;34m=\u001b[0m \u001b[0mself\u001b[0m\u001b[0;34m.\u001b[0m\u001b[0mlayers\u001b[0m\u001b[0;34m(\u001b[0m\u001b[0mX\u001b[0m\u001b[0;34m)\u001b[0m\u001b[0;34m,\u001b[0m\u001b[0;34m\u001b[0m\u001b[0;34m\u001b[0m\u001b[0m\n\u001b[0m\u001b[1;32m     23\u001b[0m         \u001b[0mX\u001b[0m \u001b[0;34m=\u001b[0m \u001b[0mnn\u001b[0m\u001b[0;34m.\u001b[0m\u001b[0mRelU\u001b[0m\u001b[0;34m(\u001b[0m\u001b[0mX\u001b[0m\u001b[0;34m)\u001b[0m\u001b[0;34m\u001b[0m\u001b[0;34m\u001b[0m\u001b[0m\n\u001b[1;32m     24\u001b[0m         \u001b[0;32mreturn\u001b[0m \u001b[0mX\u001b[0m\u001b[0;34m\u001b[0m\u001b[0;34m\u001b[0m\u001b[0m\n",
      "\u001b[0;32m~/opt/anaconda3/envs/climatechange/lib/python3.9/site-packages/torch/nn/modules/module.py\u001b[0m in \u001b[0;36m_call_impl\u001b[0;34m(self, *input, **kwargs)\u001b[0m\n\u001b[1;32m   1100\u001b[0m         if not (self._backward_hooks or self._forward_hooks or self._forward_pre_hooks or _global_backward_hooks\n\u001b[1;32m   1101\u001b[0m                 or _global_forward_hooks or _global_forward_pre_hooks):\n\u001b[0;32m-> 1102\u001b[0;31m             \u001b[0;32mreturn\u001b[0m \u001b[0mforward_call\u001b[0m\u001b[0;34m(\u001b[0m\u001b[0;34m*\u001b[0m\u001b[0minput\u001b[0m\u001b[0;34m,\u001b[0m \u001b[0;34m**\u001b[0m\u001b[0mkwargs\u001b[0m\u001b[0;34m)\u001b[0m\u001b[0;34m\u001b[0m\u001b[0;34m\u001b[0m\u001b[0m\n\u001b[0m\u001b[1;32m   1103\u001b[0m         \u001b[0;31m# Do not call functions when jit is used\u001b[0m\u001b[0;34m\u001b[0m\u001b[0;34m\u001b[0m\u001b[0m\n\u001b[1;32m   1104\u001b[0m         \u001b[0mfull_backward_hooks\u001b[0m\u001b[0;34m,\u001b[0m \u001b[0mnon_full_backward_hooks\u001b[0m \u001b[0;34m=\u001b[0m \u001b[0;34m[\u001b[0m\u001b[0;34m]\u001b[0m\u001b[0;34m,\u001b[0m \u001b[0;34m[\u001b[0m\u001b[0;34m]\u001b[0m\u001b[0;34m\u001b[0m\u001b[0;34m\u001b[0m\u001b[0m\n",
      "\u001b[0;32m~/opt/anaconda3/envs/climatechange/lib/python3.9/site-packages/torch/nn/modules/container.py\u001b[0m in \u001b[0;36mforward\u001b[0;34m(self, input)\u001b[0m\n\u001b[1;32m    139\u001b[0m     \u001b[0;32mdef\u001b[0m \u001b[0mforward\u001b[0m\u001b[0;34m(\u001b[0m\u001b[0mself\u001b[0m\u001b[0;34m,\u001b[0m \u001b[0minput\u001b[0m\u001b[0;34m)\u001b[0m\u001b[0;34m:\u001b[0m\u001b[0;34m\u001b[0m\u001b[0;34m\u001b[0m\u001b[0m\n\u001b[1;32m    140\u001b[0m         \u001b[0;32mfor\u001b[0m \u001b[0mmodule\u001b[0m \u001b[0;32min\u001b[0m \u001b[0mself\u001b[0m\u001b[0;34m:\u001b[0m\u001b[0;34m\u001b[0m\u001b[0;34m\u001b[0m\u001b[0m\n\u001b[0;32m--> 141\u001b[0;31m             \u001b[0minput\u001b[0m \u001b[0;34m=\u001b[0m \u001b[0mmodule\u001b[0m\u001b[0;34m(\u001b[0m\u001b[0minput\u001b[0m\u001b[0;34m)\u001b[0m\u001b[0;34m\u001b[0m\u001b[0;34m\u001b[0m\u001b[0m\n\u001b[0m\u001b[1;32m    142\u001b[0m         \u001b[0;32mreturn\u001b[0m \u001b[0minput\u001b[0m\u001b[0;34m\u001b[0m\u001b[0;34m\u001b[0m\u001b[0m\n\u001b[1;32m    143\u001b[0m \u001b[0;34m\u001b[0m\u001b[0m\n",
      "\u001b[0;32m~/opt/anaconda3/envs/climatechange/lib/python3.9/site-packages/torch/nn/modules/module.py\u001b[0m in \u001b[0;36m_call_impl\u001b[0;34m(self, *input, **kwargs)\u001b[0m\n\u001b[1;32m   1100\u001b[0m         if not (self._backward_hooks or self._forward_hooks or self._forward_pre_hooks or _global_backward_hooks\n\u001b[1;32m   1101\u001b[0m                 or _global_forward_hooks or _global_forward_pre_hooks):\n\u001b[0;32m-> 1102\u001b[0;31m             \u001b[0;32mreturn\u001b[0m \u001b[0mforward_call\u001b[0m\u001b[0;34m(\u001b[0m\u001b[0;34m*\u001b[0m\u001b[0minput\u001b[0m\u001b[0;34m,\u001b[0m \u001b[0;34m**\u001b[0m\u001b[0mkwargs\u001b[0m\u001b[0;34m)\u001b[0m\u001b[0;34m\u001b[0m\u001b[0;34m\u001b[0m\u001b[0m\n\u001b[0m\u001b[1;32m   1103\u001b[0m         \u001b[0;31m# Do not call functions when jit is used\u001b[0m\u001b[0;34m\u001b[0m\u001b[0;34m\u001b[0m\u001b[0m\n\u001b[1;32m   1104\u001b[0m         \u001b[0mfull_backward_hooks\u001b[0m\u001b[0;34m,\u001b[0m \u001b[0mnon_full_backward_hooks\u001b[0m \u001b[0;34m=\u001b[0m \u001b[0;34m[\u001b[0m\u001b[0;34m]\u001b[0m\u001b[0;34m,\u001b[0m \u001b[0;34m[\u001b[0m\u001b[0;34m]\u001b[0m\u001b[0;34m\u001b[0m\u001b[0;34m\u001b[0m\u001b[0m\n",
      "\u001b[0;32m~/opt/anaconda3/envs/climatechange/lib/python3.9/site-packages/torch/nn/modules/container.py\u001b[0m in \u001b[0;36mforward\u001b[0;34m(self, input)\u001b[0m\n\u001b[1;32m    139\u001b[0m     \u001b[0;32mdef\u001b[0m \u001b[0mforward\u001b[0m\u001b[0;34m(\u001b[0m\u001b[0mself\u001b[0m\u001b[0;34m,\u001b[0m \u001b[0minput\u001b[0m\u001b[0;34m)\u001b[0m\u001b[0;34m:\u001b[0m\u001b[0;34m\u001b[0m\u001b[0;34m\u001b[0m\u001b[0m\n\u001b[1;32m    140\u001b[0m         \u001b[0;32mfor\u001b[0m \u001b[0mmodule\u001b[0m \u001b[0;32min\u001b[0m \u001b[0mself\u001b[0m\u001b[0;34m:\u001b[0m\u001b[0;34m\u001b[0m\u001b[0;34m\u001b[0m\u001b[0m\n\u001b[0;32m--> 141\u001b[0;31m             \u001b[0minput\u001b[0m \u001b[0;34m=\u001b[0m \u001b[0mmodule\u001b[0m\u001b[0;34m(\u001b[0m\u001b[0minput\u001b[0m\u001b[0;34m)\u001b[0m\u001b[0;34m\u001b[0m\u001b[0;34m\u001b[0m\u001b[0m\n\u001b[0m\u001b[1;32m    142\u001b[0m         \u001b[0;32mreturn\u001b[0m \u001b[0minput\u001b[0m\u001b[0;34m\u001b[0m\u001b[0;34m\u001b[0m\u001b[0m\n\u001b[1;32m    143\u001b[0m \u001b[0;34m\u001b[0m\u001b[0m\n",
      "\u001b[0;32m~/opt/anaconda3/envs/climatechange/lib/python3.9/site-packages/torch/nn/modules/module.py\u001b[0m in \u001b[0;36m_call_impl\u001b[0;34m(self, *input, **kwargs)\u001b[0m\n\u001b[1;32m   1100\u001b[0m         if not (self._backward_hooks or self._forward_hooks or self._forward_pre_hooks or _global_backward_hooks\n\u001b[1;32m   1101\u001b[0m                 or _global_forward_hooks or _global_forward_pre_hooks):\n\u001b[0;32m-> 1102\u001b[0;31m             \u001b[0;32mreturn\u001b[0m \u001b[0mforward_call\u001b[0m\u001b[0;34m(\u001b[0m\u001b[0;34m*\u001b[0m\u001b[0minput\u001b[0m\u001b[0;34m,\u001b[0m \u001b[0;34m**\u001b[0m\u001b[0mkwargs\u001b[0m\u001b[0;34m)\u001b[0m\u001b[0;34m\u001b[0m\u001b[0;34m\u001b[0m\u001b[0m\n\u001b[0m\u001b[1;32m   1103\u001b[0m         \u001b[0;31m# Do not call functions when jit is used\u001b[0m\u001b[0;34m\u001b[0m\u001b[0;34m\u001b[0m\u001b[0m\n\u001b[1;32m   1104\u001b[0m         \u001b[0mfull_backward_hooks\u001b[0m\u001b[0;34m,\u001b[0m \u001b[0mnon_full_backward_hooks\u001b[0m \u001b[0;34m=\u001b[0m \u001b[0;34m[\u001b[0m\u001b[0;34m]\u001b[0m\u001b[0;34m,\u001b[0m \u001b[0;34m[\u001b[0m\u001b[0;34m]\u001b[0m\u001b[0;34m\u001b[0m\u001b[0;34m\u001b[0m\u001b[0m\n",
      "\u001b[0;32m~/opt/anaconda3/envs/climatechange/lib/python3.9/site-packages/torch/nn/modules/linear.py\u001b[0m in \u001b[0;36mforward\u001b[0;34m(self, input)\u001b[0m\n\u001b[1;32m    101\u001b[0m \u001b[0;34m\u001b[0m\u001b[0m\n\u001b[1;32m    102\u001b[0m     \u001b[0;32mdef\u001b[0m \u001b[0mforward\u001b[0m\u001b[0;34m(\u001b[0m\u001b[0mself\u001b[0m\u001b[0;34m,\u001b[0m \u001b[0minput\u001b[0m\u001b[0;34m:\u001b[0m \u001b[0mTensor\u001b[0m\u001b[0;34m)\u001b[0m \u001b[0;34m->\u001b[0m \u001b[0mTensor\u001b[0m\u001b[0;34m:\u001b[0m\u001b[0;34m\u001b[0m\u001b[0;34m\u001b[0m\u001b[0m\n\u001b[0;32m--> 103\u001b[0;31m         \u001b[0;32mreturn\u001b[0m \u001b[0mF\u001b[0m\u001b[0;34m.\u001b[0m\u001b[0mlinear\u001b[0m\u001b[0;34m(\u001b[0m\u001b[0minput\u001b[0m\u001b[0;34m,\u001b[0m \u001b[0mself\u001b[0m\u001b[0;34m.\u001b[0m\u001b[0mweight\u001b[0m\u001b[0;34m,\u001b[0m \u001b[0mself\u001b[0m\u001b[0;34m.\u001b[0m\u001b[0mbias\u001b[0m\u001b[0;34m)\u001b[0m\u001b[0;34m\u001b[0m\u001b[0;34m\u001b[0m\u001b[0m\n\u001b[0m\u001b[1;32m    104\u001b[0m \u001b[0;34m\u001b[0m\u001b[0m\n\u001b[1;32m    105\u001b[0m     \u001b[0;32mdef\u001b[0m \u001b[0mextra_repr\u001b[0m\u001b[0;34m(\u001b[0m\u001b[0mself\u001b[0m\u001b[0;34m)\u001b[0m \u001b[0;34m->\u001b[0m \u001b[0mstr\u001b[0m\u001b[0;34m:\u001b[0m\u001b[0;34m\u001b[0m\u001b[0;34m\u001b[0m\u001b[0m\n",
      "\u001b[0;32m~/opt/anaconda3/envs/climatechange/lib/python3.9/site-packages/torch/nn/functional.py\u001b[0m in \u001b[0;36mlinear\u001b[0;34m(input, weight, bias)\u001b[0m\n\u001b[1;32m   1846\u001b[0m     \u001b[0;32mif\u001b[0m \u001b[0mhas_torch_function_variadic\u001b[0m\u001b[0;34m(\u001b[0m\u001b[0minput\u001b[0m\u001b[0;34m,\u001b[0m \u001b[0mweight\u001b[0m\u001b[0;34m,\u001b[0m \u001b[0mbias\u001b[0m\u001b[0;34m)\u001b[0m\u001b[0;34m:\u001b[0m\u001b[0;34m\u001b[0m\u001b[0;34m\u001b[0m\u001b[0m\n\u001b[1;32m   1847\u001b[0m         \u001b[0;32mreturn\u001b[0m \u001b[0mhandle_torch_function\u001b[0m\u001b[0;34m(\u001b[0m\u001b[0mlinear\u001b[0m\u001b[0;34m,\u001b[0m \u001b[0;34m(\u001b[0m\u001b[0minput\u001b[0m\u001b[0;34m,\u001b[0m \u001b[0mweight\u001b[0m\u001b[0;34m,\u001b[0m \u001b[0mbias\u001b[0m\u001b[0;34m)\u001b[0m\u001b[0;34m,\u001b[0m \u001b[0minput\u001b[0m\u001b[0;34m,\u001b[0m \u001b[0mweight\u001b[0m\u001b[0;34m,\u001b[0m \u001b[0mbias\u001b[0m\u001b[0;34m=\u001b[0m\u001b[0mbias\u001b[0m\u001b[0;34m)\u001b[0m\u001b[0;34m\u001b[0m\u001b[0;34m\u001b[0m\u001b[0m\n\u001b[0;32m-> 1848\u001b[0;31m     \u001b[0;32mreturn\u001b[0m \u001b[0mtorch\u001b[0m\u001b[0;34m.\u001b[0m\u001b[0m_C\u001b[0m\u001b[0;34m.\u001b[0m\u001b[0m_nn\u001b[0m\u001b[0;34m.\u001b[0m\u001b[0mlinear\u001b[0m\u001b[0;34m(\u001b[0m\u001b[0minput\u001b[0m\u001b[0;34m,\u001b[0m \u001b[0mweight\u001b[0m\u001b[0;34m,\u001b[0m \u001b[0mbias\u001b[0m\u001b[0;34m)\u001b[0m\u001b[0;34m\u001b[0m\u001b[0;34m\u001b[0m\u001b[0m\n\u001b[0m\u001b[1;32m   1849\u001b[0m \u001b[0;34m\u001b[0m\u001b[0m\n\u001b[1;32m   1850\u001b[0m \u001b[0;34m\u001b[0m\u001b[0m\n",
      "\u001b[0;31mRuntimeError\u001b[0m: expected scalar type Float but found Double"
     ]
    }
   ],
   "source": [
    "criterion = torch.nn.MSELoss()\n",
    "optimizer = torch.optim.Adam(model.parameters(), lr=0.05)\n",
    "train_loss, valid_loss, train_accuracy, valid_accuracy = trainer(model, criterion, optimizer, trainloader, validloader, epochs=50)\n"
   ]
  },
  {
   "cell_type": "code",
   "execution_count": null,
   "id": "d91a5bf7-c5c0-4ac7-a38b-72a1999331f5",
   "metadata": {},
   "outputs": [],
   "source": []
  }
 ],
 "metadata": {
  "kernelspec": {
   "display_name": "Python [conda env:climatechange]",
   "language": "python",
   "name": "conda-env-climatechange-py"
  },
  "language_info": {
   "codemirror_mode": {
    "name": "ipython",
    "version": 3
   },
   "file_extension": ".py",
   "mimetype": "text/x-python",
   "name": "python",
   "nbconvert_exporter": "python",
   "pygments_lexer": "ipython3",
   "version": "3.9.7"
  }
 },
 "nbformat": 4,
 "nbformat_minor": 5
}
