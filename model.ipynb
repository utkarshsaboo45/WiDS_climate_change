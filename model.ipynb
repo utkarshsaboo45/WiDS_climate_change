{
 "cells": [
  {
   "cell_type": "markdown",
   "metadata": {},
   "source": [
    "# WiDS"
   ]
  },
  {
   "cell_type": "markdown",
   "metadata": {
    "tags": []
   },
   "source": [
    "## Data Loading"
   ]
  },
  {
   "cell_type": "markdown",
   "metadata": {},
   "source": [
    "__Importing the libraries__"
   ]
  },
  {
   "cell_type": "code",
   "execution_count": 1,
   "metadata": {
    "execution": {
     "iopub.execute_input": "2022-02-22T22:07:38.084726Z",
     "iopub.status.busy": "2022-02-22T22:07:38.083802Z",
     "iopub.status.idle": "2022-02-22T22:07:39.586264Z",
     "shell.execute_reply": "2022-02-22T22:07:39.585499Z",
     "shell.execute_reply.started": "2022-02-22T22:07:38.084616Z"
    }
   },
   "outputs": [],
   "source": [
    "from sklearn.preprocessing import (\n",
    "    OneHotEncoder,\n",
    "    StandardScaler,\n",
    "    FunctionTransformer,\n",
    ")\n",
    "\n",
    "from sklearn.impute import SimpleImputer\n",
    "# from sklearn.impute import IterativeImputer\n",
    "\n",
    "from sklearn.pipeline import make_pipeline\n",
    "from sklearn.compose import make_column_transformer\n",
    "\n",
    "\n",
    "from sklearn.model_selection import (\n",
    "    cross_val_score,\n",
    "    cross_validate,\n",
    "    train_test_split,\n",
    "    RandomizedSearchCV\n",
    ")\n",
    "\n",
    "from sklearn.linear_model import Ridge\n",
    "\n",
    "from sklearn.tree import DecisionTreeRegressor\n",
    "from sklearn.ensemble import RandomForestRegressor\n",
    "\n",
    "from catboost import CatBoostRegressor\n",
    "from lightgbm.sklearn import LGBMRegressor\n",
    "from xgboost import XGBRegressor\n",
    "\n",
    "from sklearn.ensemble import StackingClassifier\n",
    "\n",
    "from sklearn.metrics import make_scorer\n",
    "# from sklearn.metrics import mean_absolute_percentage_error\n",
    "from sklearn.metrics import mean_squared_error\n",
    "from sklearn.metrics import precision_recall_curve\n",
    "from sklearn.metrics import roc_curve"
   ]
  },
  {
   "cell_type": "code",
   "execution_count": 2,
   "metadata": {
    "execution": {
     "iopub.execute_input": "2022-02-22T22:07:39.587995Z",
     "iopub.status.busy": "2022-02-22T22:07:39.587707Z",
     "iopub.status.idle": "2022-02-22T22:07:40.151691Z",
     "shell.execute_reply": "2022-02-22T22:07:40.150860Z",
     "shell.execute_reply.started": "2022-02-22T22:07:39.587959Z"
    }
   },
   "outputs": [],
   "source": [
    "import numpy as np\n",
    "import pandas as pd\n",
    "from torchvision import transforms, datasets, utils\n",
    "import torch\n",
    "from torch.utils.data import DataLoader, TensorDataset, random_split, Dataset\n",
    "from torch import Tensor\n",
    "from torch.nn import Linear\n",
    "from torch.nn import Sigmoid\n",
    "from torch.nn import Module\n",
    "from torch.optim import SGD\n",
    "from torch.nn import MSELoss\n",
    "import torch.utils.data as data\n",
    "from torch import nn"
   ]
  },
  {
   "cell_type": "code",
   "execution_count": 3,
   "metadata": {
    "execution": {
     "iopub.execute_input": "2022-02-22T22:07:40.154173Z",
     "iopub.status.busy": "2022-02-22T22:07:40.153816Z",
     "iopub.status.idle": "2022-02-22T22:07:40.158590Z",
     "shell.execute_reply": "2022-02-22T22:07:40.157649Z",
     "shell.execute_reply.started": "2022-02-22T22:07:40.154126Z"
    }
   },
   "outputs": [],
   "source": [
    "train_path = \"data/train.csv\"\n",
    "test_path = \"data/test.csv\""
   ]
  },
  {
   "cell_type": "code",
   "execution_count": 4,
   "metadata": {
    "execution": {
     "iopub.execute_input": "2022-02-22T22:07:41.607468Z",
     "iopub.status.busy": "2022-02-22T22:07:41.607205Z",
     "iopub.status.idle": "2022-02-22T22:07:41.631434Z",
     "shell.execute_reply": "2022-02-22T22:07:41.630567Z",
     "shell.execute_reply.started": "2022-02-22T22:07:41.607439Z"
    }
   },
   "outputs": [],
   "source": [
    "class Dataprep(Dataset):\n",
    "\n",
    "    def __init__(self, train_path, test_path, size=0.1, is_train=True):\n",
    "        df = pd.read_csv(train_path)\n",
    "        test_df = pd.read_csv(test_path)\n",
    "\n",
    "        TARGET_COLUMN = \"site_eui\"\n",
    "\n",
    "        self.is_train = is_train\n",
    "\n",
    "        train_df, val_df = train_test_split(\n",
    "            df,\n",
    "            test_size=0.1,\n",
    "            random_state=123\n",
    "        )\n",
    "\n",
    "        self.X_train, self.y_train = train_df.drop(columns=[TARGET_COLUMN]), train_df[TARGET_COLUMN]\n",
    "        self.X_val, self.y_val = val_df.drop(columns=[TARGET_COLUMN]), val_df[TARGET_COLUMN]\n",
    "        self.X_test = test_df\n",
    "\n",
    "    def engineer_features(self):\n",
    "        # Find Standard Deviation of min, max and avg temp among months\n",
    "        min_temps = [\n",
    "            \"january_min_temp\",\n",
    "            \"february_min_temp\",\n",
    "            \"march_min_temp\",\n",
    "            \"april_min_temp\",\n",
    "            \"may_min_temp\",\n",
    "            \"june_min_temp\",\n",
    "            \"july_min_temp\",\n",
    "            \"august_min_temp\",\n",
    "            \"september_min_temp\",\n",
    "            \"october_min_temp\",\n",
    "            \"november_min_temp\",\n",
    "            \"december_min_temp\"\n",
    "        ]\n",
    "\n",
    "        max_temps = [\n",
    "            \"january_max_temp\",\n",
    "            \"february_max_temp\",\n",
    "            \"march_max_temp\",\n",
    "            \"april_max_temp\",\n",
    "            \"may_max_temp\",\n",
    "            \"june_max_temp\",\n",
    "            \"july_max_temp\",\n",
    "            \"august_max_temp\",\n",
    "            \"september_max_temp\",\n",
    "            \"october_max_temp\",\n",
    "            \"november_max_temp\",\n",
    "            \"december_max_temp\"\n",
    "        ]\n",
    "\n",
    "        avg_temps = [\n",
    "            \"january_avg_temp\",\n",
    "            \"february_avg_temp\",\n",
    "            \"march_avg_temp\",\n",
    "            \"april_avg_temp\",\n",
    "            \"may_avg_temp\",\n",
    "            \"june_avg_temp\",\n",
    "            \"july_avg_temp\",\n",
    "            \"august_avg_temp\",\n",
    "            \"september_avg_temp\",\n",
    "            \"october_avg_temp\",\n",
    "            \"november_avg_temp\",\n",
    "            \"december_avg_temp\",\n",
    "        ]\n",
    "\n",
    "        self.numeric_features = [\n",
    "            \"floor_area\",\n",
    "            \"year_built\",\n",
    "            \"energy_star_rating\",\n",
    "            \"ELEVATION\",\n",
    "            \"cooling_degree_days\",\n",
    "            \"heating_degree_days\",\n",
    "            \"precipitation_inches\",\n",
    "            \"snowfall_inches\",\n",
    "            \"snowdepth_inches\",\n",
    "            \"avg_temp\",\n",
    "            \"days_below_30F\",\n",
    "            \"days_below_20F\",\n",
    "            \"days_below_10F\",\n",
    "            \"days_below_0F\",\n",
    "            \"days_above_80F\",\n",
    "            \"days_above_90F\",\n",
    "            \"days_above_100F\",\n",
    "            \"days_above_110F\",\n",
    "            \"max_wind_speed\",\n",
    "            \"days_with_fog\",\n",
    "            \"building_age\",\n",
    "            \"min_temp_std\",\n",
    "            \"max_temp_std\",\n",
    "            \"avg_temp_std\",\n",
    "            \"0-10\",\n",
    "            \"10-20\",\n",
    "            \"20-30\",\n",
    "            \"30-80\",\n",
    "            \"80-90\",\n",
    "            \"90-100\",\n",
    "            \"100-110\"\n",
    "        ] + min_temps + max_temps + avg_temps\n",
    "\n",
    "        self.categorical_features = [\n",
    "            \"Year_Factor\",\n",
    "            \"State_Factor\",\n",
    "            \"building_class\",\n",
    "            \"facility_type\",\n",
    "            \"direction_max_wind_speed\",\n",
    "            \"direction_peak_wind_speed\"\n",
    "        ]\n",
    "\n",
    "        self.drop_columns = [\n",
    "            \"id\"\n",
    "        ]\n",
    "        \n",
    "        for X in [self.X_train, self.X_val, self.X_test]:\n",
    "            X[\"building_age\"] = 2022 - X[\"year_built\"]\n",
    "\n",
    "        for X in [self.X_train, self.X_val, self.X_test]:\n",
    "            X[\"min_temp_std\"] = X[min_temps].T.std()\n",
    "            X[\"max_temp_std\"] = X[max_temps].T.std()\n",
    "            X[\"avg_temp_std\"] = X[avg_temps].T.std()\n",
    "\n",
    "        days_above_below = [\n",
    "            \"days_below_30F\",\n",
    "            \"days_below_20F\",\n",
    "            \"days_below_10F\",\n",
    "            \"days_below_0F\",\n",
    "            \"days_above_80F\",\n",
    "            \"days_above_90F\",\n",
    "            \"days_above_100F\",\n",
    "            \"days_above_110F\",\n",
    "        ]\n",
    "\n",
    "        for X in [self.X_train, self.X_val, self.X_test]:\n",
    "            X[\"0-10\"] = X[\"days_below_10F\"] - X[\"days_below_0F\"]\n",
    "            X[\"10-20\"] = X[\"days_below_20F\"] - X[\"days_below_10F\"]\n",
    "            X[\"20-30\"] = X[\"days_below_30F\"] - X[\"days_below_20F\"]\n",
    "            X[\"80-90\"] = X[\"days_above_80F\"] - X[\"days_above_90F\"]\n",
    "            X[\"90-100\"] = X[\"days_above_90F\"] - X[\"days_above_100F\"]\n",
    "            X[\"100-110\"] = X[\"days_above_100F\"] - X[\"days_above_110F\"]\n",
    "            X[\"30-80\"] = (366 - X[days_above_below].sum(axis=1)).clip(lower=0)\n",
    "\n",
    "    def preprocess(self):\n",
    "        pipe_numeric_feats = make_pipeline(\n",
    "           SimpleImputer(strategy=\"mean\"),\n",
    "           StandardScaler()\n",
    "        )\n",
    "        pipe_cat_feats = make_pipeline(\n",
    "            SimpleImputer(strategy=\"most_frequent\"),\n",
    "            OneHotEncoder(handle_unknown=\"ignore\", sparse=False)\n",
    "        )\n",
    "        self.column_transformer = make_column_transformer(\n",
    "            (pipe_numeric_feats, self.numeric_features),\n",
    "            (pipe_cat_feats, self.categorical_features)\n",
    "        )\n",
    "        \n",
    "        self.X_train_raw = self.X_train\n",
    "        self.X_val_raw = self.X_val\n",
    "        self.X_test_raw = self.X_test\n",
    "        self.X_train = self.column_transformer.fit_transform(self.X_train)\n",
    "        self.X_val = self.column_transformer.transform(self.X_val)\n",
    "        self.X_test = self.column_transformer.transform(self.X_test)\n",
    "\n",
    "        self.X_train_tensor = torch.tensor(self.X_train, dtype=torch.float32)\n",
    "        self.y_train_tensor = torch.tensor(self.y_train.values, dtype=torch.float32)\n",
    "        self.X_val_tensor = torch.tensor(self.X_val, dtype=torch.float32)\n",
    "        self.y_val_tensor = torch.tensor(self.y_val.values, dtype=torch.float32)\n",
    "        self.X_test_tensor = torch.tensor(self.X_test, dtype=torch.float32)"
   ]
  },
  {
   "cell_type": "code",
   "execution_count": 5,
   "metadata": {
    "execution": {
     "iopub.execute_input": "2022-02-22T22:07:42.997717Z",
     "iopub.status.busy": "2022-02-22T22:07:42.997149Z",
     "iopub.status.idle": "2022-02-22T22:07:50.388812Z",
     "shell.execute_reply": "2022-02-22T22:07:50.387968Z",
     "shell.execute_reply.started": "2022-02-22T22:07:42.997674Z"
    }
   },
   "outputs": [],
   "source": [
    "feature_set = Dataprep(train_path, test_path)\n",
    "feature_set.engineer_features()\n",
    "feature_set.preprocess()"
   ]
  },
  {
   "cell_type": "code",
   "execution_count": 6,
   "metadata": {
    "execution": {
     "iopub.execute_input": "2022-02-22T22:07:50.390785Z",
     "iopub.status.busy": "2022-02-22T22:07:50.390510Z",
     "iopub.status.idle": "2022-02-22T22:07:50.399550Z",
     "shell.execute_reply": "2022-02-22T22:07:50.398637Z",
     "shell.execute_reply.started": "2022-02-22T22:07:50.390749Z"
    }
   },
   "outputs": [],
   "source": [
    "def mse(predictions, targets):\n",
    "    return np.mean((predictions - targets) ** 2)\n",
    "        \n",
    "def rmse(predictions, targets):\n",
    "    return np.sqrt(((predictions - targets) ** 2).mean())\n",
    "\n",
    "def mape(true, pred): \n",
    "    return 100.0 * np.mean(np.abs((pred - true) / true))\n",
    "\n",
    "def r2score_torch(predictions, target):\n",
    "    target_mean = torch.mean(target)\n",
    "    ss_tot = torch.sum((target - target_mean) ** 2)\n",
    "    ss_res = torch.sum((target - predictions) ** 2)\n",
    "    r2 = 1 - ss_res / ss_tot\n",
    "    return r2\n",
    "\n",
    "def mse_torch(predictions, targets):\n",
    "    return torch.mean((predictions - targets) ** 2)\n",
    "        \n",
    "def rmse_torch(predictions, targets):\n",
    "    return torch.sqrt(((predictions - targets) ** 2).mean())"
   ]
  },
  {
   "cell_type": "markdown",
   "metadata": {
    "jp-MarkdownHeadingCollapsed": true,
    "tags": []
   },
   "source": [
    "## Tree Models"
   ]
  },
  {
   "cell_type": "code",
   "execution_count": null,
   "metadata": {},
   "outputs": [],
   "source": [
    "for dt in [\n",
    "    feature_set.X_train,\n",
    "    feature_set.X_val,\n",
    "    feature_set.y_train,\n",
    "    feature_set.y_val\n",
    "]:\n",
    "    print(dt.shape)"
   ]
  },
  {
   "cell_type": "code",
   "execution_count": null,
   "metadata": {},
   "outputs": [],
   "source": [
    "def cross_val_scores(model, X_train, y_train, X_val, y_val, return_train_score=False):\n",
    "\n",
    "    model.fit(X_train, y_train)\n",
    "    y_val_pred = model.predict(X_val)\n",
    "\n",
    "    score_dict = {\n",
    "        \"r2_val\": model.score(X_val, y_val),\n",
    "        \"mse_val\": mse(y_val, y_val_pred),\n",
    "        \"rmse_val\": rmse(y_val, y_val_pred),\n",
    "        \"mape_val\": mape(y_val, y_val_pred)\n",
    "    }\n",
    "\n",
    "    if return_train_score:\n",
    "        y_train_pred = model.predict(X_train)\n",
    "\n",
    "        score_dict[\"r2_train\"] = model.score(X_train, y_train)\n",
    "        score_dict[\"mse_train\"] = mse(y_train, y_train_pred)\n",
    "        score_dict[\"rmse_train\"] = rmse(y_train, y_train_pred)\n",
    "        score_dict[\"mape_train\"] = mape(y_train, y_train_pred)\n",
    "\n",
    "    scores_result = pd.Series(score_dict)\n",
    "\n",
    "    return model, scores_result"
   ]
  },
  {
   "cell_type": "code",
   "execution_count": null,
   "metadata": {},
   "outputs": [],
   "source": [
    "pipe_lr = make_pipeline(feature_set.column_transformer, Ridge(max_iter=10000))\n",
    "pipe_rf = make_pipeline(feature_set.column_transformer, RandomForestRegressor())\n",
    "pipe_xgb = make_pipeline(feature_set.column_transformer, XGBRegressor(verbosity=0))\n",
    "pipe_lgbm = make_pipeline(feature_set.column_transformer, LGBMRegressor())\n",
    "pipe_catboost = make_pipeline(feature_set.column_transformer, CatBoostRegressor(verbose=False))"
   ]
  },
  {
   "cell_type": "code",
   "execution_count": null,
   "metadata": {},
   "outputs": [],
   "source": [
    "models = {\n",
    "    \"Ridge\": pipe_lr,\n",
    "    \"Random Forest\": pipe_rf,\n",
    "    \"XGB\": pipe_xgb,\n",
    "    \"LGBM\": pipe_lgbm,\n",
    "    \"Cat Boost\": pipe_catboost\n",
    "}"
   ]
  },
  {
   "cell_type": "code",
   "execution_count": null,
   "metadata": {},
   "outputs": [],
   "source": [
    "results = {}\n",
    "\n",
    "for name, model in models.items():\n",
    "    print(f\"Start {name}!\")\n",
    "    _, results[name] = cross_val_scores(\n",
    "        model,\n",
    "        feature_set.X_train_raw,\n",
    "        feature_set.y_train,\n",
    "        feature_set.X_val_raw,\n",
    "        feature_set.y_val,\n",
    "        return_train_score=True\n",
    "    )\n",
    "\n",
    "    print(f\"Done {name}!\")\n"
   ]
  },
  {
   "cell_type": "code",
   "execution_count": null,
   "metadata": {},
   "outputs": [],
   "source": [
    "pd.DataFrame(results)"
   ]
  },
  {
   "cell_type": "code",
   "execution_count": null,
   "metadata": {},
   "outputs": [],
   "source": [
    "scoring_metrics = {\n",
    "    \"neg RMSE\": \"neg_root_mean_squared_error\",\n",
    "    \"r2\": \"r2\"\n",
    "}"
   ]
  },
  {
   "cell_type": "code",
   "execution_count": null,
   "metadata": {},
   "outputs": [],
   "source": [
    "# Hyperparam Tune Random Forest \n",
    "\n",
    "params = {\n",
    "    'randomforestregressor__n_estimators': [10, 100, 1000],\n",
    "    'randomforestregressor__max_depth': [5, 10, 12],\n",
    "    'randomforestregressor__max_features': ['auto', 'sqrt']\n",
    "}"
   ]
  },
  {
   "cell_type": "code",
   "execution_count": null,
   "metadata": {},
   "outputs": [],
   "source": [
    "# random_search.fit(X_train, y_train)"
   ]
  },
  {
   "cell_type": "code",
   "execution_count": null,
   "metadata": {},
   "outputs": [],
   "source": [
    "# pd.DataFrame(random_search.cv_results)"
   ]
  },
  {
   "cell_type": "code",
   "execution_count": null,
   "metadata": {},
   "outputs": [],
   "source": [
    "# random_search.best_params_"
   ]
  },
  {
   "cell_type": "code",
   "execution_count": null,
   "metadata": {},
   "outputs": [],
   "source": [
    "# random_search.best_score_"
   ]
  },
  {
   "cell_type": "code",
   "execution_count": null,
   "metadata": {},
   "outputs": [],
   "source": [
    "# HyperparamTune XGBoost\n",
    "params_xgb = {\n",
    "    'xgbregressor__n_estimators': [10, 100, 1000],\n",
    "    'xgbregressor__max_depth': [3, 5, 7, 12],\n",
    "    'xgbregressor__eta': [0.01, 0.03, 0.01, 0.3]\n",
    "}"
   ]
  },
  {
   "cell_type": "code",
   "execution_count": null,
   "metadata": {},
   "outputs": [],
   "source": [
    " random_search = RandomizedSearchCV(\n",
    "    pipe_xgb,\n",
    "    params_xgb,\n",
    "    n_jobs=-1,\n",
    "    return_train_score=True,\n",
    "    scoring=scoring_metrics,\n",
    "    refit=\"r2\"\n",
    ")"
   ]
  },
  {
   "cell_type": "code",
   "execution_count": null,
   "metadata": {},
   "outputs": [],
   "source": [
    "# results_xgb = random_search.fit(X_train, y_train)"
   ]
  },
  {
   "cell_type": "code",
   "execution_count": null,
   "metadata": {},
   "outputs": [],
   "source": [
    "pd.DataFrame(results_xgb)"
   ]
  },
  {
   "cell_type": "markdown",
   "metadata": {},
   "source": [
    "# FCNN"
   ]
  },
  {
   "cell_type": "code",
   "execution_count": 7,
   "metadata": {
    "execution": {
     "iopub.execute_input": "2022-02-22T22:07:59.066580Z",
     "iopub.status.busy": "2022-02-22T22:07:59.065842Z",
     "iopub.status.idle": "2022-02-22T22:07:59.091320Z",
     "shell.execute_reply": "2022-02-22T22:07:59.090472Z",
     "shell.execute_reply.started": "2022-02-22T22:07:59.066540Z"
    }
   },
   "outputs": [],
   "source": [
    "device = torch.device(\"cuda\" if torch.cuda.is_available() else \"cpu\")\n",
    "device"
   ]
  },
  {
   "cell_type": "code",
   "execution_count": 8,
   "metadata": {
    "execution": {
     "iopub.execute_input": "2022-02-22T22:07:59.428520Z",
     "iopub.status.busy": "2022-02-22T22:07:59.428264Z",
     "iopub.status.idle": "2022-02-22T22:07:59.437579Z",
     "shell.execute_reply": "2022-02-22T22:07:59.436631Z",
     "shell.execute_reply.started": "2022-02-22T22:07:59.428491Z"
    }
   },
   "outputs": [],
   "source": [
    "def linear_block(input_size, output_size):\n",
    "    return nn.Sequential(\n",
    "        nn.Linear(input_size, output_size),\n",
    "        nn.ReLU(),\n",
    "        nn.Dropout(0.2)\n",
    "    )\n",
    "\n",
    "\n",
    "class EnergyRegressor(nn.Module):\n",
    "    def __init__(self, input_size):\n",
    "        super().__init__()\n",
    "        self.layers = nn.Sequential(\n",
    "            linear_block(input_size, 2 * input_size),\n",
    "            linear_block(2 * input_size, 5 * input_size),\n",
    "            linear_block(5 * input_size, 10 * input_size),\n",
    "            linear_block(10 * input_size, 7 * input_size),\n",
    "            linear_block(7 * input_size, 5 * input_size),\n",
    "            linear_block(5 * input_size, 3 * input_size),\n",
    "            linear_block(3 * input_size, input_size),\n",
    "            nn.Linear(input_size, 1000),\n",
    "            nn.Linear(1000, 700),\n",
    "            nn.Linear(700, 400), \n",
    "            nn.Linear(400, 256),\n",
    "            nn.Linear(256, 128),\n",
    "            nn.Linear(128, 64),\n",
    "            nn.Linear(64, 1)\n",
    "        )\n",
    "\n",
    "    def forward(self, X):\n",
    "        X = X.to(device)\n",
    "        X = self.layers(X)\n",
    "        return X"
   ]
  },
  {
   "cell_type": "code",
   "execution_count": 9,
   "metadata": {
    "execution": {
     "iopub.execute_input": "2022-02-22T22:07:59.825226Z",
     "iopub.status.busy": "2022-02-22T22:07:59.824703Z",
     "iopub.status.idle": "2022-02-22T22:07:59.832798Z",
     "shell.execute_reply": "2022-02-22T22:07:59.831905Z",
     "shell.execute_reply.started": "2022-02-22T22:07:59.825185Z"
    }
   },
   "outputs": [],
   "source": [
    "trainloader = DataLoader(TensorDataset(feature_set.X_train_tensor, feature_set.y_train_tensor), batch_size=32, shuffle=True)\n",
    "validloader = DataLoader(TensorDataset(feature_set.X_val_tensor, feature_set.y_val_tensor), batch_size=32, shuffle=True)"
   ]
  },
  {
   "cell_type": "code",
   "execution_count": 10,
   "metadata": {
    "execution": {
     "iopub.execute_input": "2022-02-22T22:08:00.123230Z",
     "iopub.status.busy": "2022-02-22T22:08:00.122776Z",
     "iopub.status.idle": "2022-02-22T22:08:02.216335Z",
     "shell.execute_reply": "2022-02-22T22:08:02.215598Z",
     "shell.execute_reply.started": "2022-02-22T22:08:00.123193Z"
    }
   },
   "outputs": [],
   "source": [
    "model = EnergyRegressor(feature_set.X_train_tensor.shape[1])\n",
    "model.to(device)"
   ]
  },
  {
   "cell_type": "code",
   "execution_count": 11,
   "metadata": {
    "execution": {
     "iopub.execute_input": "2022-02-22T22:08:02.219845Z",
     "iopub.status.busy": "2022-02-22T22:08:02.219231Z",
     "iopub.status.idle": "2022-02-22T22:08:02.233386Z",
     "shell.execute_reply": "2022-02-22T22:08:02.232570Z",
     "shell.execute_reply.started": "2022-02-22T22:08:02.219803Z"
    }
   },
   "outputs": [],
   "source": [
    "def trainer(model, criterion, optimizer, trainloader, validloader, epochs):\n",
    "    train_mse = 0\n",
    "    train_rmse = 0\n",
    "    train_r2 = 0\n",
    "    val_mse = 0\n",
    "    val_rmse = 0\n",
    "    val_r2 = 0\n",
    "    \n",
    "    for epoch in range(epochs):\n",
    "        train_batch_mse = []\n",
    "        train_batch_rmse = []\n",
    "        train_batch_r2 = []\n",
    "        val_batch_mse = []\n",
    "        val_batch_rmse = []\n",
    "        val_batch_r2 = []\n",
    "\n",
    "        model.train(True)\n",
    "\n",
    "        for X, y in trainloader:\n",
    "            X = X.to(device)\n",
    "            y = y.to(device)\n",
    "            y_hat = model(X).flatten()\n",
    "            \n",
    "            optimizer.zero_grad()\n",
    "            loss = criterion(y_hat, y)\n",
    "            loss = loss.to(device)\n",
    "            loss.backward()\n",
    "            optimizer.step()\n",
    "            mse_train = mse_torch(y_hat, y)\n",
    "            rmse_train = rmse_torch(y_hat, y)\n",
    "            r2_train = r2score_torch(y_hat, y)\n",
    "            train_batch_mse.append(mse_train)\n",
    "            train_batch_rmse.append(rmse_train)\n",
    "            train_batch_r2.append(r2_train)\n",
    "        \n",
    "        train_mse = torch.sum(torch.Tensor(train_batch_mse)) / len(trainloader)\n",
    "        train_rmse = torch.sum(torch.Tensor(train_batch_rmse)) / len(trainloader)\n",
    "        train_r2 = torch.sum(torch.Tensor(train_batch_r2)) / len(trainloader)\n",
    "\n",
    "        model.eval()\n",
    "\n",
    "        with torch.no_grad():\n",
    "            for X_valid, y_valid in validloader:\n",
    "                X_valid = X_valid.to(device)\n",
    "                y_valid = y_valid.to(device).flatten()\n",
    "                y_hat_val = model(X_valid)\n",
    "                mse_val = mse_torch(y_hat_val, y_valid)\n",
    "                rmse_val = rmse_torch(y_hat_val, y_valid)\n",
    "                r2_val = r2score_torch(y_hat_val, y_valid)\n",
    "                val_batch_mse.append(mse_val)\n",
    "                val_batch_rmse.append(rmse_val)\n",
    "                val_batch_r2.append(r2_val)\n",
    "            val_mse = torch.sum(torch.Tensor(val_batch_mse)) / len(validloader)\n",
    "            val_rmse = torch.sum(torch.Tensor(val_batch_rmse)) / len(validloader)\n",
    "            val_r2 = torch.sum(torch.Tensor(val_batch_r2)) / len(validloader) \n",
    "\n",
    "        print(f\"Epoch {epoch + 1}:\\tTrain MSE: {round(train_mse, 4)}. Train RMSE: {round(train_rmse, 4)}, Train R2: {round(train_r2, 4)}.\")\n",
    "        print(f\"\\t\\tVal MSE: {round(val_mse, 4)}, Val RMSE: {round(val_rmse, 4)}, Val R2: {round(val_r2, 4)}.\")\n",
    "        print(\"-\" * 50)\n",
    "    return model"
   ]
  },
  {
   "cell_type": "code",
   "execution_count": 12,
   "metadata": {
    "execution": {
     "iopub.execute_input": "2022-02-22T22:08:02.235966Z",
     "iopub.status.busy": "2022-02-22T22:08:02.235670Z",
     "iopub.status.idle": "2022-02-22T22:29:12.042302Z",
     "shell.execute_reply": "2022-02-22T22:29:12.041459Z",
     "shell.execute_reply.started": "2022-02-22T22:08:02.235930Z"
    }
   },
   "outputs": [],
   "source": [
    "criterion = torch.nn.MSELoss()\n",
    "optimizer = torch.optim.Adam(model.parameters(), lr=0.0001)\n",
    "criterion = criterion.to(device)\n",
    "trained_model = trainer(model, criterion, optimizer, trainloader, validloader, epochs=100)"
   ]
  },
  {
   "cell_type": "code",
   "execution_count": 13,
   "metadata": {
    "execution": {
     "iopub.execute_input": "2022-02-22T22:29:12.044766Z",
     "iopub.status.busy": "2022-02-22T22:29:12.044061Z",
     "iopub.status.idle": "2022-02-22T22:29:12.049554Z",
     "shell.execute_reply": "2022-02-22T22:29:12.048784Z",
     "shell.execute_reply.started": "2022-02-22T22:29:12.044711Z"
    }
   },
   "outputs": [],
   "source": [
    "def predict(model, X):\n",
    "    return model(X.type(torch.float32))"
   ]
  },
  {
   "cell_type": "code",
   "execution_count": 14,
   "metadata": {
    "execution": {
     "iopub.execute_input": "2022-02-22T22:29:12.051408Z",
     "iopub.status.busy": "2022-02-22T22:29:12.050653Z",
     "iopub.status.idle": "2022-02-22T22:29:12.086979Z",
     "shell.execute_reply": "2022-02-22T22:29:12.086193Z",
     "shell.execute_reply.started": "2022-02-22T22:29:12.051368Z"
    }
   },
   "outputs": [],
   "source": [
    "predictions = predict(trained_model, feature_set.X_test_tensor)\n",
    "predictions"
   ]
  },
  {
   "cell_type": "code",
   "execution_count": null,
   "metadata": {},
   "outputs": [],
   "source": [
    "feature_set.X_test_raw.shape"
   ]
  },
  {
   "cell_type": "code",
   "execution_count": null,
   "metadata": {},
   "outputs": [],
   "source": [
    "feature_set.X_test.shape"
   ]
  },
  {
   "cell_type": "code",
   "execution_count": null,
   "metadata": {},
   "outputs": [],
   "source": [
    "results_dict = {\"id\": feature_set.X_test_raw[\"id\"],\n",
    "               \"site_eui\": predictions.cpu().detach().numpy().flatten()}\n",
    "pd.DataFrame(results_dict).set_index(\"id\").to_csv(\"submission.csv\")"
   ]
  },
  {
   "cell_type": "code",
   "execution_count": null,
   "metadata": {},
   "outputs": [],
   "source": []
  }
 ],
 "metadata": {
  "kernelspec": {
   "display_name": "Python [conda env:env_sup]",
   "language": "python",
   "name": "conda-env-env_sup-py"
  },
  "language_info": {
   "codemirror_mode": {
    "name": "ipython",
    "version": 3
   },
   "file_extension": ".py",
   "mimetype": "text/x-python",
   "name": "python",
   "nbconvert_exporter": "python",
   "pygments_lexer": "ipython3",
   "version": "3.6.15"
  }
 },
 "nbformat": 4,
 "nbformat_minor": 4
}
